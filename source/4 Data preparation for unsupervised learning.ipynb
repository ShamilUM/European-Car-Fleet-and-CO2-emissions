{
 "cells": [
  {
   "cell_type": "markdown",
   "id": "9979c919",
   "metadata": {},
   "source": [
    "# Part 4. Car dataset preparation for further analyses"
   ]
  },
  {
   "cell_type": "markdown",
   "id": "59e2715e",
   "metadata": {},
   "source": [
    "Before performing any analysis, it is essential to prepare the data. We used basic pandas \"cleaning\", so that the appropriate methods can be applied on the data. "
   ]
  },
  {
   "cell_type": "markdown",
   "id": "a8cd90f7",
   "metadata": {},
   "source": [
    "## 1. Importing libraries"
   ]
  },
  {
   "cell_type": "code",
   "execution_count": 3,
   "id": "6664217c",
   "metadata": {},
   "outputs": [],
   "source": [
    "import pandas as pd\n",
    "import numpy as np\n",
    "import altair as alt\n",
    "from sklearn.preprocessing import StandardScaler\n",
    "import matplotlib.pyplot as plt\n",
    "from sklearn import preprocessing \n",
    "from tqdm import tqdm, trange"
   ]
  },
  {
   "cell_type": "code",
   "execution_count": 4,
   "id": "0a1f6216",
   "metadata": {},
   "outputs": [
    {
     "data": {
      "text/plain": [
       "DataTransformerRegistry.enable('default')"
      ]
     },
     "execution_count": 4,
     "metadata": {},
     "output_type": "execute_result"
    }
   ],
   "source": [
    "alt.data_transformers.disable_max_rows()"
   ]
  },
  {
   "cell_type": "markdown",
   "id": "e90fa843",
   "metadata": {},
   "source": [
    "## 2. Loading data"
   ]
  },
  {
   "cell_type": "markdown",
   "id": "c4f6a528",
   "metadata": {},
   "source": [
    "For 2021 dataset we used the results from Supervised learning prediction of ENEDC feature."
   ]
  },
  {
   "cell_type": "code",
   "execution_count": 6,
   "id": "cabf30c2",
   "metadata": {},
   "outputs": [],
   "source": [
    "df2021_predicted = pd.read_pickle('predicted_2021')\n",
    "df2021 = pd.read_csv('data/data2021.csv', low_memory=False)"
   ]
  },
  {
   "cell_type": "code",
   "execution_count": 7,
   "id": "f5af59a8",
   "metadata": {},
   "outputs": [],
   "source": [
    "df2021['Country']= df2021['Country'].str.lower()\n",
    "df2021['Mh']= df2021['Mh'].str.lower()\n",
    "df2021['Man']= df2021['Man'].str.lower()\n",
    "df2021['Mk']= df2021['Mk'].str.lower()\n",
    "df2021['Cn']= df2021['Cn'].str.lower()\n",
    "df2021['Ft']= df2021['Ft'].str.lower()\n",
    "df2021['Fm']= df2021['Fm'].str.lower()"
   ]
  },
  {
   "cell_type": "code",
   "execution_count": 8,
   "id": "a5049903",
   "metadata": {},
   "outputs": [],
   "source": [
    "#Splitting original 2021 dataframe into df1 and df2 dataframes with ENEDC and without ENEDC feature accordingly\n",
    "df1=df2021[df2021['Enedc (g/km)'].notnull()]\n",
    "df2=df2021[df2021['Enedc (g/km)'].isnull()]"
   ]
  },
  {
   "cell_type": "code",
   "execution_count": 9,
   "id": "c1cfb05f",
   "metadata": {},
   "outputs": [],
   "source": [
    "# Removing all the rows from df2 (with missing ENEDC feature), where any other feature is missing\n",
    "df3 = df2.dropna(thresh=2)\n",
    "df3['year'] = 2021"
   ]
  },
  {
   "cell_type": "code",
   "execution_count": 10,
   "id": "1b6880b4",
   "metadata": {},
   "outputs": [],
   "source": [
    "# Filling missing ENEDC feature in df3 dataframe with df2021 predicted results based on other features\n",
    "df4 = pd.merge(df3, df2021_predicted, how='left', left_on=['Country', 'Mh', 'Man', 'Mk', 'Cn', 'm (kg)', 'Ft', 'Fm', 'ec (cm3)', 'year'], \n",
    "               right_on=['Country', 'Mh', 'Man', 'Mk', 'Cn', 'm (kg)', 'Ft', 'Fm', 'ec (cm3)', 'year'])\n",
    "df4.drop('Enedc (g/km)_x', axis=1, inplace=True)\n",
    "df4.rename(columns={\"Enedc (g/km)_y\": \"Enedc (g/km)\"}, inplace=True)"
   ]
  },
  {
   "cell_type": "code",
   "execution_count": 11,
   "id": "af7c27a2",
   "metadata": {},
   "outputs": [],
   "source": [
    "# Concatenating the resulted datafrane df4 with df1 (original 2021 dataset with filled ENEDC column)\n",
    "df2021_concat = pd.concat([df4, df1], axis=0)\n",
    "# And saving as data2021_updated.csv\n",
    "df2021_concat.to_csv('data/data2021_updated.csv')"
   ]
  },
  {
   "cell_type": "code",
   "execution_count": 12,
   "id": "3d01ceee",
   "metadata": {},
   "outputs": [
    {
     "data": {
      "text/html": [
       "<div>\n",
       "<style scoped>\n",
       "    .dataframe tbody tr th:only-of-type {\n",
       "        vertical-align: middle;\n",
       "    }\n",
       "\n",
       "    .dataframe tbody tr th {\n",
       "        vertical-align: top;\n",
       "    }\n",
       "\n",
       "    .dataframe thead th {\n",
       "        text-align: right;\n",
       "    }\n",
       "</style>\n",
       "<table border=\"1\" class=\"dataframe\">\n",
       "  <thead>\n",
       "    <tr style=\"text-align: right;\">\n",
       "      <th></th>\n",
       "      <th>ID</th>\n",
       "      <th>Country</th>\n",
       "      <th>VFN</th>\n",
       "      <th>Mp</th>\n",
       "      <th>Mh</th>\n",
       "      <th>Man</th>\n",
       "      <th>MMS</th>\n",
       "      <th>Tan</th>\n",
       "      <th>T</th>\n",
       "      <th>Va</th>\n",
       "      <th>...</th>\n",
       "      <th>Ernedc (g/km)</th>\n",
       "      <th>Erwltp (g/km)</th>\n",
       "      <th>De</th>\n",
       "      <th>Vf</th>\n",
       "      <th>Status</th>\n",
       "      <th>year</th>\n",
       "      <th>Date of registration</th>\n",
       "      <th>Fuel consumption</th>\n",
       "      <th>Electric range (km)</th>\n",
       "      <th>Enedc (g/km)</th>\n",
       "    </tr>\n",
       "  </thead>\n",
       "  <tbody>\n",
       "    <tr>\n",
       "      <th>0</th>\n",
       "      <td>57567541</td>\n",
       "      <td>is</td>\n",
       "      <td>IP-C519_2020_00023-WF0-1</td>\n",
       "      <td>FORD</td>\n",
       "      <td>ford werke gmbh</td>\n",
       "      <td>ford werke gmbh</td>\n",
       "      <td>NaN</td>\n",
       "      <td>E13*2007/46*1911*13</td>\n",
       "      <td>DEH</td>\n",
       "      <td>B7DA1PX</td>\n",
       "      <td>...</td>\n",
       "      <td>NaN</td>\n",
       "      <td>NaN</td>\n",
       "      <td>NaN</td>\n",
       "      <td>NaN</td>\n",
       "      <td>P</td>\n",
       "      <td>2021</td>\n",
       "      <td>2021-12-17</td>\n",
       "      <td>NaN</td>\n",
       "      <td>NaN</td>\n",
       "      <td>130.539630</td>\n",
       "    </tr>\n",
       "    <tr>\n",
       "      <th>1</th>\n",
       "      <td>57567542</td>\n",
       "      <td>is</td>\n",
       "      <td>IP-C519_2020_00023-WF0-1</td>\n",
       "      <td>FORD</td>\n",
       "      <td>ford werke gmbh</td>\n",
       "      <td>ford werke gmbh</td>\n",
       "      <td>NaN</td>\n",
       "      <td>E13*2007/46*1911*13</td>\n",
       "      <td>DEH</td>\n",
       "      <td>B7DA1PX</td>\n",
       "      <td>...</td>\n",
       "      <td>NaN</td>\n",
       "      <td>NaN</td>\n",
       "      <td>NaN</td>\n",
       "      <td>NaN</td>\n",
       "      <td>P</td>\n",
       "      <td>2021</td>\n",
       "      <td>2021-12-08</td>\n",
       "      <td>NaN</td>\n",
       "      <td>NaN</td>\n",
       "      <td>130.539630</td>\n",
       "    </tr>\n",
       "    <tr>\n",
       "      <th>2</th>\n",
       "      <td>57567543</td>\n",
       "      <td>is</td>\n",
       "      <td>IP-C519_2020_00023-WF0-1</td>\n",
       "      <td>FORD</td>\n",
       "      <td>ford werke gmbh</td>\n",
       "      <td>ford werke gmbh</td>\n",
       "      <td>NaN</td>\n",
       "      <td>E13*2007/46*1911*13</td>\n",
       "      <td>DEH</td>\n",
       "      <td>B7DA1NX</td>\n",
       "      <td>...</td>\n",
       "      <td>NaN</td>\n",
       "      <td>NaN</td>\n",
       "      <td>NaN</td>\n",
       "      <td>NaN</td>\n",
       "      <td>P</td>\n",
       "      <td>2021</td>\n",
       "      <td>2021-11-25</td>\n",
       "      <td>NaN</td>\n",
       "      <td>NaN</td>\n",
       "      <td>129.179418</td>\n",
       "    </tr>\n",
       "    <tr>\n",
       "      <th>3</th>\n",
       "      <td>57567544</td>\n",
       "      <td>is</td>\n",
       "      <td>IP-C519_2020_00023-WF0-1</td>\n",
       "      <td>FORD</td>\n",
       "      <td>ford werke gmbh</td>\n",
       "      <td>ford werke gmbh</td>\n",
       "      <td>NaN</td>\n",
       "      <td>E13*2007/46*1911*13</td>\n",
       "      <td>DEH</td>\n",
       "      <td>B7DA1NX</td>\n",
       "      <td>...</td>\n",
       "      <td>NaN</td>\n",
       "      <td>NaN</td>\n",
       "      <td>NaN</td>\n",
       "      <td>NaN</td>\n",
       "      <td>P</td>\n",
       "      <td>2021</td>\n",
       "      <td>2021-11-03</td>\n",
       "      <td>NaN</td>\n",
       "      <td>NaN</td>\n",
       "      <td>129.179418</td>\n",
       "    </tr>\n",
       "    <tr>\n",
       "      <th>4</th>\n",
       "      <td>57567545</td>\n",
       "      <td>is</td>\n",
       "      <td>IP-C519_2020_00023-WF0-1</td>\n",
       "      <td>FORD</td>\n",
       "      <td>ford werke gmbh</td>\n",
       "      <td>ford werke gmbh</td>\n",
       "      <td>NaN</td>\n",
       "      <td>E13*2007/46*1911*13</td>\n",
       "      <td>DEH</td>\n",
       "      <td>B7DA1NX</td>\n",
       "      <td>...</td>\n",
       "      <td>NaN</td>\n",
       "      <td>NaN</td>\n",
       "      <td>NaN</td>\n",
       "      <td>NaN</td>\n",
       "      <td>P</td>\n",
       "      <td>2021</td>\n",
       "      <td>2021-10-29</td>\n",
       "      <td>NaN</td>\n",
       "      <td>NaN</td>\n",
       "      <td>129.179418</td>\n",
       "    </tr>\n",
       "  </tbody>\n",
       "</table>\n",
       "<p>5 rows × 38 columns</p>\n",
       "</div>"
      ],
      "text/plain": [
       "         ID Country                       VFN    Mp               Mh  \\\n",
       "0  57567541      is  IP-C519_2020_00023-WF0-1  FORD  ford werke gmbh   \n",
       "1  57567542      is  IP-C519_2020_00023-WF0-1  FORD  ford werke gmbh   \n",
       "2  57567543      is  IP-C519_2020_00023-WF0-1  FORD  ford werke gmbh   \n",
       "3  57567544      is  IP-C519_2020_00023-WF0-1  FORD  ford werke gmbh   \n",
       "4  57567545      is  IP-C519_2020_00023-WF0-1  FORD  ford werke gmbh   \n",
       "\n",
       "               Man  MMS                  Tan    T       Va  ... Ernedc (g/km)  \\\n",
       "0  ford werke gmbh  NaN  E13*2007/46*1911*13  DEH  B7DA1PX  ...           NaN   \n",
       "1  ford werke gmbh  NaN  E13*2007/46*1911*13  DEH  B7DA1PX  ...           NaN   \n",
       "2  ford werke gmbh  NaN  E13*2007/46*1911*13  DEH  B7DA1NX  ...           NaN   \n",
       "3  ford werke gmbh  NaN  E13*2007/46*1911*13  DEH  B7DA1NX  ...           NaN   \n",
       "4  ford werke gmbh  NaN  E13*2007/46*1911*13  DEH  B7DA1NX  ...           NaN   \n",
       "\n",
       "  Erwltp (g/km)  De  Vf Status  year  Date of registration  Fuel consumption   \\\n",
       "0           NaN NaN NaN      P  2021            2021-12-17                NaN   \n",
       "1           NaN NaN NaN      P  2021            2021-12-08                NaN   \n",
       "2           NaN NaN NaN      P  2021            2021-11-25                NaN   \n",
       "3           NaN NaN NaN      P  2021            2021-11-03                NaN   \n",
       "4           NaN NaN NaN      P  2021            2021-10-29                NaN   \n",
       "\n",
       "   Electric range (km)  Enedc (g/km)  \n",
       "0                  NaN    130.539630  \n",
       "1                  NaN    130.539630  \n",
       "2                  NaN    129.179418  \n",
       "3                  NaN    129.179418  \n",
       "4                  NaN    129.179418  \n",
       "\n",
       "[5 rows x 38 columns]"
      ]
     },
     "execution_count": 12,
     "metadata": {},
     "output_type": "execute_result"
    }
   ],
   "source": [
    "df2021_concat.head()"
   ]
  },
  {
   "cell_type": "code",
   "execution_count": 13,
   "id": "2eb79d96",
   "metadata": {},
   "outputs": [],
   "source": [
    "#Loading all the datasets with updated 2021 one.\n",
    "df2010 = pd.read_csv('data/data2010.csv', low_memory=False)\n",
    "df2011 = pd.read_csv('data/data2011.csv', low_memory=False)\n",
    "df2012 = pd.read_csv('data/data2012.csv', low_memory=False)\n",
    "df2013 = pd.read_csv('data/data2013.csv', low_memory=False)\n",
    "df2014 = pd.read_csv('data/data2014.csv', low_memory=False)\n",
    "df2015 = pd.read_csv('data/data2015.csv', low_memory=False)\n",
    "df2016 = pd.read_csv('data/data2016.csv', low_memory=False)\n",
    "df2017 = pd.read_csv('data/data2017.csv', low_memory=False)\n",
    "df2018 = pd.read_csv('data/data2018.csv', low_memory=False)\n",
    "df2019 = pd.read_csv('data/data2019.csv', low_memory=False)\n",
    "df2020 = pd.read_csv('data/data2020.csv', low_memory=False)\n",
    "df2021 = pd.read_csv('data/data2021_updated.csv', low_memory=False)"
   ]
  },
  {
   "cell_type": "markdown",
   "id": "03a5d2ad",
   "metadata": {},
   "source": [
    "Filtering the features"
   ]
  },
  {
   "cell_type": "code",
   "execution_count": 14,
   "id": "24de2201",
   "metadata": {},
   "outputs": [],
   "source": [
    "df2010 = df2010[['Country','Mk','Cn','m (kg)','Enedc (g/km)', 'Ft', 'Fm', 'ec (cm3)']]\n",
    "df2011 = df2011[['Country','Mk','Cn','m (kg)','Enedc (g/km)', 'Ft', 'Fm', 'ec (cm3)']]\n",
    "df2012 = df2012[['Country','Mk','Cn','m (kg)','Enedc (g/km)', 'Ft', 'Fm', 'ec (cm3)']]\n",
    "df2013 = df2013[['Country','Mk','Cn','m (kg)','Enedc (g/km)', 'Ft', 'Fm', 'ec (cm3)']]\n",
    "df2014 = df2014[['Country','Mk','Cn','m (kg)','Enedc (g/km)', 'Ft', 'Fm', 'ec (cm3)']]\n",
    "df2015 = df2015[['Country','Mk','Cn','m (kg)','Enedc (g/km)', 'Ft', 'Fm', 'ec (cm3)']]\n",
    "df2016 = df2016[['Country','Mk','Cn','m (kg)','Enedc (g/km)', 'Ft', 'Fm', 'ec (cm3)']]\n",
    "df2017 = df2017[['Country','Mk','Cn','m (kg)','Enedc (g/km)', 'Ft', 'Fm', 'ec (cm3)']]\n",
    "df2018 = df2018[['Country','Mk','Cn','m (kg)','Enedc (g/km)', 'Ft', 'Fm', 'ec (cm3)']]\n",
    "df2019 = df2019[['Country','Mk','Cn','m (kg)','Enedc (g/km)', 'Ft', 'Fm', 'ec (cm3)']]\n",
    "df2020 = df2020[['Country','Mk','Cn','m (kg)','Enedc (g/km)', 'Ft', 'Fm', 'ec (cm3)']]\n",
    "df2021 = df2021[['Country','Mk','Cn','m (kg)','Enedc (g/km)', 'Ft', 'Fm', 'ec (cm3)']]"
   ]
  },
  {
   "cell_type": "code",
   "execution_count": 15,
   "id": "7db93297",
   "metadata": {},
   "outputs": [],
   "source": [
    "# Adding \"year\" column\n",
    "df2010[\"year\"] = 2010\n",
    "df2011[\"year\"] = 2011\n",
    "df2012[\"year\"] = 2012\n",
    "df2013[\"year\"] = 2013\n",
    "df2014[\"year\"] = 2014\n",
    "df2015[\"year\"] = 2015\n",
    "df2016[\"year\"] = 2016\n",
    "df2017[\"year\"] = 2017\n",
    "df2018[\"year\"] = 2018\n",
    "df2019[\"year\"] = 2019\n",
    "df2020[\"year\"] = 2020\n",
    "df2021[\"year\"] = 2021"
   ]
  },
  {
   "cell_type": "code",
   "execution_count": 16,
   "id": "db2d6be3",
   "metadata": {},
   "outputs": [],
   "source": [
    "# Removing all the NaN values from the dataset\n",
    "df2010 = df2010.dropna()\n",
    "df2011 = df2011.dropna()\n",
    "df2012 = df2012.dropna()\n",
    "df2013 = df2013.dropna()\n",
    "df2014 = df2014.dropna()\n",
    "df2015 = df2015.dropna()\n",
    "df2016 = df2016.dropna()\n",
    "df2017 = df2017.dropna()\n",
    "df2018 = df2018.dropna()\n",
    "df2019 = df2019.dropna()\n",
    "df2020 = df2020.dropna()\n",
    "df2021 = df2021.dropna()"
   ]
  },
  {
   "cell_type": "code",
   "execution_count": 17,
   "id": "940e3a0e",
   "metadata": {},
   "outputs": [
    {
     "data": {
      "text/plain": [
       "(226142,\n",
       " 292891,\n",
       " 315633,\n",
       " 395238,\n",
       " 388748,\n",
       " 430470,\n",
       " 488045,\n",
       " 4904122,\n",
       " 15049428,\n",
       " 15141857,\n",
       " 10976458,\n",
       " 8332674)"
      ]
     },
     "execution_count": 17,
     "metadata": {},
     "output_type": "execute_result"
    }
   ],
   "source": [
    "#Checking the length of each dataset\n",
    "len(df2010),len(df2011),len(df2012),len(df2013),len(df2014),len(df2015),len(df2016),len(df2017),len(df2018),len(df2019),len(df2020),len(df2021)"
   ]
  },
  {
   "cell_type": "code",
   "execution_count": 18,
   "id": "4bc3f4ad",
   "metadata": {},
   "outputs": [],
   "source": [
    "#Combining all the datasets into one dataframe\n",
    "df_list_full = [df2010,\n",
    "           df2011,\n",
    "           df2012,\n",
    "           df2013,\n",
    "           df2014,\n",
    "           df2015,\n",
    "           df2016,\n",
    "           df2017,\n",
    "           df2018,\n",
    "           df2019,\n",
    "           df2020,\n",
    "           df2021]\n",
    "combined_df_full = pd.concat(df_list_full, axis=0)"
   ]
  },
  {
   "cell_type": "code",
   "execution_count": 19,
   "id": "396e411a",
   "metadata": {},
   "outputs": [
    {
     "data": {
      "text/html": [
       "<div>\n",
       "<style scoped>\n",
       "    .dataframe tbody tr th:only-of-type {\n",
       "        vertical-align: middle;\n",
       "    }\n",
       "\n",
       "    .dataframe tbody tr th {\n",
       "        vertical-align: top;\n",
       "    }\n",
       "\n",
       "    .dataframe thead th {\n",
       "        text-align: right;\n",
       "    }\n",
       "</style>\n",
       "<table border=\"1\" class=\"dataframe\">\n",
       "  <thead>\n",
       "    <tr style=\"text-align: right;\">\n",
       "      <th></th>\n",
       "      <th>Country</th>\n",
       "      <th>Mk</th>\n",
       "      <th>Cn</th>\n",
       "      <th>m (kg)</th>\n",
       "      <th>Enedc (g/km)</th>\n",
       "      <th>Ft</th>\n",
       "      <th>Fm</th>\n",
       "      <th>ec (cm3)</th>\n",
       "      <th>year</th>\n",
       "    </tr>\n",
       "  </thead>\n",
       "  <tbody>\n",
       "    <tr>\n",
       "      <th>0</th>\n",
       "      <td>GB</td>\n",
       "      <td>VAUXHALL</td>\n",
       "      <td>ZAFIRA SRI XP 150 CDTI A</td>\n",
       "      <td>1613.0</td>\n",
       "      <td>191.0</td>\n",
       "      <td>diesel</td>\n",
       "      <td>M</td>\n",
       "      <td>1910.0</td>\n",
       "      <td>2010</td>\n",
       "    </tr>\n",
       "    <tr>\n",
       "      <th>1</th>\n",
       "      <td>GB</td>\n",
       "      <td>VAUXHALL</td>\n",
       "      <td>ZAFIRA ACTIVE</td>\n",
       "      <td>1503.0</td>\n",
       "      <td>177.0</td>\n",
       "      <td>petrol</td>\n",
       "      <td>M</td>\n",
       "      <td>1796.0</td>\n",
       "      <td>2010</td>\n",
       "    </tr>\n",
       "    <tr>\n",
       "      <th>2</th>\n",
       "      <td>GB</td>\n",
       "      <td>VAUXHALL</td>\n",
       "      <td>AGILA DESIGN</td>\n",
       "      <td>1160.0</td>\n",
       "      <td>120.0</td>\n",
       "      <td>diesel</td>\n",
       "      <td>M</td>\n",
       "      <td>1248.0</td>\n",
       "      <td>2010</td>\n",
       "    </tr>\n",
       "    <tr>\n",
       "      <th>3</th>\n",
       "      <td>GB</td>\n",
       "      <td>VAUXHALL</td>\n",
       "      <td>ASTRA SRI TURBO</td>\n",
       "      <td>1393.0</td>\n",
       "      <td>138.0</td>\n",
       "      <td>petrol</td>\n",
       "      <td>M</td>\n",
       "      <td>1364.0</td>\n",
       "      <td>2010</td>\n",
       "    </tr>\n",
       "    <tr>\n",
       "      <th>4</th>\n",
       "      <td>GB</td>\n",
       "      <td>VAUXHALL</td>\n",
       "      <td>ZAFIRA ELITE CDTI AUTO</td>\n",
       "      <td>1613.0</td>\n",
       "      <td>186.0</td>\n",
       "      <td>diesel</td>\n",
       "      <td>M</td>\n",
       "      <td>1910.0</td>\n",
       "      <td>2010</td>\n",
       "    </tr>\n",
       "  </tbody>\n",
       "</table>\n",
       "</div>"
      ],
      "text/plain": [
       "  Country        Mk                        Cn  m (kg)  Enedc (g/km)      Ft  \\\n",
       "0      GB  VAUXHALL  ZAFIRA SRI XP 150 CDTI A  1613.0         191.0  diesel   \n",
       "1      GB  VAUXHALL             ZAFIRA ACTIVE  1503.0         177.0  petrol   \n",
       "2      GB  VAUXHALL              AGILA DESIGN  1160.0         120.0  diesel   \n",
       "3      GB  VAUXHALL           ASTRA SRI TURBO  1393.0         138.0  petrol   \n",
       "4      GB  VAUXHALL    ZAFIRA ELITE CDTI AUTO  1613.0         186.0  diesel   \n",
       "\n",
       "  Fm  ec (cm3)  year  \n",
       "0  M    1910.0  2010  \n",
       "1  M    1796.0  2010  \n",
       "2  M    1248.0  2010  \n",
       "3  M    1364.0  2010  \n",
       "4  M    1910.0  2010  "
      ]
     },
     "execution_count": 19,
     "metadata": {},
     "output_type": "execute_result"
    }
   ],
   "source": [
    "combined_df_full.head()"
   ]
  },
  {
   "cell_type": "markdown",
   "id": "e56ddec9",
   "metadata": {},
   "source": [
    "## 3. Manufacture name feature cleaning"
   ]
  },
  {
   "cell_type": "markdown",
   "id": "7ecda34c",
   "metadata": {},
   "source": [
    "For unsupervised methods we used three numeric features: Mass (kg), ENEDC (g/km) and Engine capacity (cm3) and one categorical Mk feature. But before using categorical feature, we need to clean it."
   ]
  },
  {
   "cell_type": "markdown",
   "id": "e522b3a5",
   "metadata": {},
   "source": [
    "### 3a str.lower()"
   ]
  },
  {
   "cell_type": "code",
   "execution_count": 20,
   "id": "a7cd2ba1",
   "metadata": {},
   "outputs": [],
   "source": [
    "# Creating a copy of column Mk with str.lower funtcion\n",
    "combined_df_full['Mk_clean']= combined_df_full['Mk'].str.lower()"
   ]
  },
  {
   "cell_type": "markdown",
   "id": "947ddbb4",
   "metadata": {},
   "source": [
    "### 3b Correcting the manufacture name feature"
   ]
  },
  {
   "cell_type": "markdown",
   "id": "0f8e8753",
   "metadata": {},
   "source": [
    "Overall, the manufacture name column requires cleaning, we manually fixed the name of manufacture for 87 main car producers."
   ]
  },
  {
   "cell_type": "code",
   "execution_count": 21,
   "id": "8a80b660",
   "metadata": {},
   "outputs": [],
   "source": [
    "dictionary = {'alfa.+': 'alfaromeo',\n",
    " 'societe des automobiles alpine saa': 'alpine',\n",
    " 'aston.+': 'aston-martin',\n",
    " 'audi.+': 'audi',\n",
    " 'adi': 'audi',\n",
    " 'fx': 'audi',\n",
    " 'gy': 'audi',\n",
    " 'a.u.d.i.': 'audi',\n",
    " 'b-style.+': 'b-style&flex-i-trans',\n",
    " 'bentley.+': 'bentley',\n",
    " 'bmw.+': 'bmw',\n",
    " 'alpina': 'bmw',\n",
    " 'b m w': 'bmw',\n",
    " 'b.m.w.': 'bmw',\n",
    " 'caterham.+': 'caterham',\n",
    " 'chevrolet.+': 'chevrolet',\n",
    " 'citroen.+': 'citroen',\n",
    " 'citroën': 'citroen',\n",
    " 'citroã‹n': 'citroen',\n",
    " 'dfsk.+': 'dfsk',\n",
    " 'dfm': 'dfsk',\n",
    " 'dodge.+': 'dodge',\n",
    " 'fiat.+': 'fiat',\n",
    " '08p': 'fiat',\n",
    " 'iveco - fiat': 'fiat',\n",
    " 'ford.+': 'ford',\n",
    " 'jhh': 'ford',\n",
    " 'general motors.+': 'gm',\n",
    " 'general motors': 'gm',\n",
    " 'gm.+': 'gm',\n",
    " 'great wall.+': 'great wall',\n",
    " 'greyt wall': 'great wall',\n",
    " 'honda.+': 'honda',\n",
    " 'hyundai.+': 'hyundai',\n",
    " 'huyndai': 'hyundai',\n",
    " 'hiundai': 'hyundai',\n",
    " 'infiniti/pgd': 'infiniti',\n",
    " 'jaguar.+': 'jaguar',\n",
    " 'janguar.+': 'jaguar',\n",
    " 'kia.+': 'kia',\n",
    " 'automobili lamborghini.+': 'lamborghini',\n",
    " 'lamborghimi': 'lamborghini',\n",
    " 'automobili lamborghini': 'lamborghini',\n",
    " 'lamborghin': 'lamborghini',\n",
    " 'land.+': 'landrover',\n",
    " 'mclaren': 'mc laren',\n",
    " 'mercedes.+': 'mercedes',\n",
    " 'mercdes.+': 'mercedes',\n",
    " 'r1eamg': 'mercedes',\n",
    " 'r1ecls': 'mercedes',\n",
    " 'brabus automotive': 'mercedes',\n",
    " 'mecedes-benz': 'mercedes',\n",
    " 'mitsubishi.+': 'mitsubishi',\n",
    " 'mitsubish': 'mitsubishi',\n",
    " 'nissan.+': 'nissan',\n",
    " 'open': 'opel',\n",
    " 'opel.+': 'opel',\n",
    " 'peugeot.+': 'peugeot',\n",
    " 'pugeot': 'peugeot',\n",
    " 'peugot': 'peugeot',\n",
    " 'automobiles peugeot': 'peugeot',\n",
    " 'dringhcfporsche': 'porsche',\n",
    " 'porsche.+': 'porsche',\n",
    " 'range.+': 'rangerover',\n",
    " 'renault.+': 'renault',\n",
    " 'rolls.+': 'rolls-royce',\n",
    " 'seat.+': 'seat',\n",
    " 'škoda': 'skoda',\n",
    " 'skoda.+': 'skoda',\n",
    " 'daimler smart': 'smart',\n",
    " 'ssangyong.+': 'ssangyong',\n",
    " 'subaru.+': 'subaru',\n",
    " 'suzuki.+': 'suzuki',\n",
    " 'îœî‘ruti suzuki': 'suzuki',\n",
    " 'susuki': 'suzuki',\n",
    " 'tesla.+': 'tesla',\n",
    " 'kgb10l': 'toyota',\n",
    " 'lada': 'vaz',\n",
    " 'lada.+': 'vaz',\n",
    " 'avtovaz': 'vaz',\n",
    " 'waz': 'vaz',\n",
    " 'vaz.+': 'vaz',\n",
    " 'volkswagen.+': 'volkswagen',\n",
    " 'vw': 'volkswagen',\n",
    " 'vokswagen vw': 'volkswagen',\n",
    " 'volvo.+': 'volvo',\n",
    " '3olvo': 'volvo'}"
   ]
  },
  {
   "cell_type": "code",
   "execution_count": 22,
   "id": "dafe423e",
   "metadata": {},
   "outputs": [],
   "source": [
    "combined_df_full['Mk_clean'] = combined_df_full['Mk_clean'].replace(dictionary, regex=True)"
   ]
  },
  {
   "cell_type": "markdown",
   "id": "2ef9e435",
   "metadata": {},
   "source": [
    "## 4. Splitting dataset by year"
   ]
  },
  {
   "cell_type": "markdown",
   "id": "975cc5e2",
   "metadata": {},
   "source": [
    "Then we separated the combined dataset with 'clean' manufacture name by year and saved as csv files."
   ]
  },
  {
   "cell_type": "code",
   "execution_count": 23,
   "id": "3d303b43",
   "metadata": {},
   "outputs": [],
   "source": [
    "df2010_clean = combined_df_full[combined_df_full['year']==2010]\n",
    "df2011_clean = combined_df_full[combined_df_full['year']==2011]\n",
    "df2012_clean = combined_df_full[combined_df_full['year']==2012]\n",
    "df2013_clean = combined_df_full[combined_df_full['year']==2013]\n",
    "df2014_clean = combined_df_full[combined_df_full['year']==2014]\n",
    "df2015_clean = combined_df_full[combined_df_full['year']==2015]\n",
    "df2016_clean = combined_df_full[combined_df_full['year']==2016]\n",
    "df2017_clean = combined_df_full[combined_df_full['year']==2017]\n",
    "df2018_clean = combined_df_full[combined_df_full['year']==2018]\n",
    "df2019_clean = combined_df_full[combined_df_full['year']==2019]\n",
    "df2020_clean = combined_df_full[combined_df_full['year']==2020]\n",
    "df2021_clean = combined_df_full[combined_df_full['year']==2021]"
   ]
  },
  {
   "cell_type": "code",
   "execution_count": null,
   "id": "1f7847c9",
   "metadata": {},
   "outputs": [],
   "source": [
    "df2010_clean.to_csv('df2010_clean12Feb.csv')\n",
    "df2011_clean.to_csv('df2011_clean12Feb.csv')\n",
    "df2012_clean.to_csv('df2012_clean12Feb.csv')\n",
    "df2013_clean.to_csv('df2013_clean12Feb.csv')\n",
    "df2014_clean.to_csv('df2014_clean12Feb.csv')\n",
    "df2015_clean.to_csv('df2015_clean12Feb.csv')\n",
    "df2016_clean.to_csv('df2016_clean12Feb.csv')\n",
    "df2017_clean.to_csv('df2017_clean12Feb.csv')\n",
    "df2018_clean.to_csv('df2018_clean12Feb.csv')\n",
    "df2019_clean.to_csv('df2019_clean12Feb.csv')\n",
    "df2020_clean.to_csv('df2020_clean12Feb.csv')\n",
    "df2021_clean.to_csv('df2021_clean12Feb.csv')"
   ]
  },
  {
   "cell_type": "markdown",
   "id": "75461f68",
   "metadata": {},
   "source": [
    "## 5. Sampling 100 000 samples from each year dataset and combining them into one dataframe which was further used for unsupervised learning methods"
   ]
  },
  {
   "cell_type": "markdown",
   "id": "b45e6e87",
   "metadata": {},
   "source": [
    "To equally represent each year, each year’s dataset was sampled by 100 000 samples and then combined to the final dataset with 1 200 000 samples in total. Features used for clustering: vehicle mass (numeric), engine capacity (numeric), ENEDC (numeric) and vehicle manufacture (categorical -transformed later to label)."
   ]
  },
  {
   "cell_type": "code",
   "execution_count": 24,
   "id": "d51888d2",
   "metadata": {},
   "outputs": [],
   "source": [
    "df2010_clean = pd.read_csv('df2010_clean12Feb.csv', low_memory=False)\n",
    "df2011_clean = pd.read_csv('df2011_clean12Feb.csv', low_memory=False)\n",
    "df2012_clean = pd.read_csv('df2012_clean12Feb.csv', low_memory=False)\n",
    "df2013_clean = pd.read_csv('df2013_clean12Feb.csv', low_memory=False)\n",
    "df2014_clean = pd.read_csv('df2014_clean12Feb.csv', low_memory=False)\n",
    "df2015_clean = pd.read_csv('df2015_clean12Feb.csv', low_memory=False)\n",
    "df2016_clean = pd.read_csv('df2016_clean12Feb.csv', low_memory=False)\n",
    "df2017_clean = pd.read_csv('df2017_clean12Feb.csv', low_memory=False)\n",
    "df2018_clean = pd.read_csv('df2018_clean12Feb.csv', low_memory=False)\n",
    "df2019_clean = pd.read_csv('df2019_clean12Feb.csv', low_memory=False)\n",
    "df2020_clean = pd.read_csv('df2020_clean12Feb.csv', low_memory=False)\n",
    "df2021_clean = pd.read_csv('df2021_clean12Feb.csv', low_memory=False)"
   ]
  },
  {
   "cell_type": "code",
   "execution_count": 25,
   "id": "2fe90e16",
   "metadata": {},
   "outputs": [],
   "source": [
    "n=2"
   ]
  },
  {
   "cell_type": "code",
   "execution_count": 26,
   "id": "8887240d",
   "metadata": {},
   "outputs": [],
   "source": [
    "df_list = [df2010_clean.sample(n = 100000,random_state=n),\n",
    "           df2011_clean.sample(n = 100000,random_state=n),\n",
    "           df2012_clean.sample(n = 100000,random_state=n),\n",
    "           df2013_clean.sample(n = 100000,random_state=n),\n",
    "           df2014_clean.sample(n = 100000,random_state=n),\n",
    "           df2015_clean.sample(n = 100000,random_state=n),\n",
    "           df2016_clean.sample(n = 100000,random_state=n),\n",
    "           df2017_clean.sample(n = 100000,random_state=n),\n",
    "           df2018_clean.sample(n = 100000,random_state=n),\n",
    "           df2019_clean.sample(n = 100000,random_state=n),\n",
    "           df2020_clean.sample(n = 100000,random_state=n),\n",
    "           df2021_clean.sample(n = 100000,random_state=n)]\n",
    "combined_df = pd.concat(df_list, axis=0)"
   ]
  },
  {
   "cell_type": "code",
   "execution_count": 29,
   "id": "8dd52574",
   "metadata": {},
   "outputs": [
    {
     "data": {
      "text/html": [
       "<div>\n",
       "<style scoped>\n",
       "    .dataframe tbody tr th:only-of-type {\n",
       "        vertical-align: middle;\n",
       "    }\n",
       "\n",
       "    .dataframe tbody tr th {\n",
       "        vertical-align: top;\n",
       "    }\n",
       "\n",
       "    .dataframe thead th {\n",
       "        text-align: right;\n",
       "    }\n",
       "</style>\n",
       "<table border=\"1\" class=\"dataframe\">\n",
       "  <thead>\n",
       "    <tr style=\"text-align: right;\">\n",
       "      <th></th>\n",
       "      <th>Unnamed: 0</th>\n",
       "      <th>Country</th>\n",
       "      <th>Mk</th>\n",
       "      <th>Cn</th>\n",
       "      <th>m (kg)</th>\n",
       "      <th>Enedc (g/km)</th>\n",
       "      <th>Ft</th>\n",
       "      <th>Fm</th>\n",
       "      <th>ec (cm3)</th>\n",
       "      <th>year</th>\n",
       "      <th>Mk_clean</th>\n",
       "    </tr>\n",
       "  </thead>\n",
       "  <tbody>\n",
       "    <tr>\n",
       "      <th>26362</th>\n",
       "      <td>26643</td>\n",
       "      <td>CZ</td>\n",
       "      <td>VOLKSWAGEN</td>\n",
       "      <td>GOLF SPORTSVAN</td>\n",
       "      <td>1474.0</td>\n",
       "      <td>114.0</td>\n",
       "      <td>Diesel</td>\n",
       "      <td>M</td>\n",
       "      <td>1968.0</td>\n",
       "      <td>2016</td>\n",
       "      <td>volkswagen</td>\n",
       "    </tr>\n",
       "    <tr>\n",
       "      <th>54433</th>\n",
       "      <td>61659</td>\n",
       "      <td>GB</td>\n",
       "      <td>VOLVO</td>\n",
       "      <td>XC60 SE LUX D3 AUTO</td>\n",
       "      <td>1871.0</td>\n",
       "      <td>178.0</td>\n",
       "      <td>diesel</td>\n",
       "      <td>M</td>\n",
       "      <td>1984.0</td>\n",
       "      <td>2012</td>\n",
       "      <td>volvo</td>\n",
       "    </tr>\n",
       "    <tr>\n",
       "      <th>248128</th>\n",
       "      <td>279602</td>\n",
       "      <td>GB</td>\n",
       "      <td>TOYOTA</td>\n",
       "      <td>PRIUS T4 VVT-I CVT</td>\n",
       "      <td>1480.0</td>\n",
       "      <td>92.0</td>\n",
       "      <td>petrol</td>\n",
       "      <td>B</td>\n",
       "      <td>1798.0</td>\n",
       "      <td>2012</td>\n",
       "      <td>toyota</td>\n",
       "    </tr>\n",
       "    <tr>\n",
       "      <th>43247</th>\n",
       "      <td>49031</td>\n",
       "      <td>GB</td>\n",
       "      <td>VAUXHALL</td>\n",
       "      <td>ZAFIRA DESIGN NAV</td>\n",
       "      <td>1550.0</td>\n",
       "      <td>168.0</td>\n",
       "      <td>petrol</td>\n",
       "      <td>M</td>\n",
       "      <td>1796.0</td>\n",
       "      <td>2012</td>\n",
       "      <td>vauxhall</td>\n",
       "    </tr>\n",
       "    <tr>\n",
       "      <th>365892</th>\n",
       "      <td>412544</td>\n",
       "      <td>IT</td>\n",
       "      <td>NISSAN</td>\n",
       "      <td>NISSAN QASHQAI</td>\n",
       "      <td>1343.0</td>\n",
       "      <td>144.0</td>\n",
       "      <td>PETROL</td>\n",
       "      <td>M</td>\n",
       "      <td>1598.0</td>\n",
       "      <td>2013</td>\n",
       "      <td>nissan</td>\n",
       "    </tr>\n",
       "  </tbody>\n",
       "</table>\n",
       "</div>"
      ],
      "text/plain": [
       "        Unnamed: 0 Country          Mk                   Cn  m (kg)  \\\n",
       "26362        26643      CZ  VOLKSWAGEN       GOLF SPORTSVAN  1474.0   \n",
       "54433        61659      GB       VOLVO  XC60 SE LUX D3 AUTO  1871.0   \n",
       "248128      279602      GB      TOYOTA   PRIUS T4 VVT-I CVT  1480.0   \n",
       "43247        49031      GB    VAUXHALL    ZAFIRA DESIGN NAV  1550.0   \n",
       "365892      412544      IT      NISSAN       NISSAN QASHQAI  1343.0   \n",
       "\n",
       "        Enedc (g/km)      Ft Fm  ec (cm3)  year    Mk_clean  \n",
       "26362          114.0  Diesel  M    1968.0  2016  volkswagen  \n",
       "54433          178.0  diesel  M    1984.0  2012       volvo  \n",
       "248128          92.0  petrol  B    1798.0  2012      toyota  \n",
       "43247          168.0  petrol  M    1796.0  2012    vauxhall  \n",
       "365892         144.0  PETROL  M    1598.0  2013      nissan  "
      ]
     },
     "execution_count": 29,
     "metadata": {},
     "output_type": "execute_result"
    }
   ],
   "source": [
    "combined_df.sample(5)"
   ]
  },
  {
   "cell_type": "code",
   "execution_count": 960,
   "id": "b655ec21",
   "metadata": {},
   "outputs": [],
   "source": [
    "# saving csv file\n",
    "combined_df.to_csv(‘combined_df.csv’)"
   ]
  }
 ],
 "metadata": {
  "kernelspec": {
   "display_name": "Python 3 (ipykernel)",
   "language": "python",
   "name": "python3"
  },
  "language_info": {
   "codemirror_mode": {
    "name": "ipython",
    "version": 3
   },
   "file_extension": ".py",
   "mimetype": "text/x-python",
   "name": "python",
   "nbconvert_exporter": "python",
   "pygments_lexer": "ipython3",
   "version": "3.9.7"
  }
 },
 "nbformat": 4,
 "nbformat_minor": 5
}
