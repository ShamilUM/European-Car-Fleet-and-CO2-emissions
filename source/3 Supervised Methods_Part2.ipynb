{
 "cells": [
  {
   "cell_type": "code",
   "execution_count": null,
   "metadata": {
    "colab": {
     "base_uri": "https://localhost:8080/"
    },
    "executionInfo": {
     "elapsed": 3665,
     "status": "ok",
     "timestamp": 1677492634595,
     "user": {
      "displayName": "gyungyoonpark",
      "userId": "16303404270082910683"
     },
     "user_tz": -120
    },
    "id": "lkB5q2HewPiN",
    "outputId": "b8a7a5c6-4f25-44f8-cc30-16a1c7f02237"
   },
   "outputs": [],
   "source": []
  },
  {
   "cell_type": "code",
   "execution_count": 1,
   "metadata": {
    "colab": {
     "base_uri": "https://localhost:8080/"
    },
    "executionInfo": {
     "elapsed": 7055,
     "status": "ok",
     "timestamp": 1677492641646,
     "user": {
      "displayName": "gyungyoonpark",
      "userId": "16303404270082910683"
     },
     "user_tz": -120
    },
    "id": "0_YSqkRhyBFX",
    "outputId": "6e593fb9-3b34-4995-ba04-02ee2f61e120"
   },
   "outputs": [],
   "source": [
    "# !pip install pyarrow\n",
    "# !pip install fastparquet "
   ]
  },
  {
   "cell_type": "markdown",
   "metadata": {
    "id": "_Ek3NIYLVE6Q"
   },
   "source": [
    "# Data Loading and columns setting"
   ]
  },
  {
   "cell_type": "code",
   "execution_count": 3,
   "metadata": {
    "executionInfo": {
     "elapsed": 1464,
     "status": "ok",
     "timestamp": 1677492646586,
     "user": {
      "displayName": "gyungyoonpark",
      "userId": "16303404270082910683"
     },
     "user_tz": -120
    },
    "id": "8daLuCYzyMJS"
   },
   "outputs": [],
   "source": [
    "import warnings\n",
    "warnings.filterwarnings('ignore')\n",
    "import sklearn\n",
    "\n",
    "import matplotlib.pyplot as plt\n",
    "\n",
    "import seaborn as sns\n",
    "\n",
    "import numpy as np\n",
    "import pandas as pd\n",
    "\n",
    "pd.options.display.max_rows = 999\n",
    "pd.options.display.max_columns = 999\n",
    "pd.options.display.float_format = '{:.3f}'.format\n"
   ]
  },
  {
   "cell_type": "code",
   "execution_count": 5,
   "metadata": {
    "colab": {
     "base_uri": "https://localhost:8080/"
    },
    "executionInfo": {
     "elapsed": 22737,
     "status": "ok",
     "timestamp": 1677492729098,
     "user": {
      "displayName": "gyungyoonpark",
      "userId": "16303404270082910683"
     },
     "user_tz": -120
    },
    "id": "R6j_sE7HwR-d",
    "outputId": "6c3a793c-9618-44d2-8a8c-d6f04ddf3593"
   },
   "outputs": [
    {
     "name": "stdout",
     "output_type": "stream",
     "text": [
      "(8406174, 38)\n"
     ]
    }
   ],
   "source": [
    "total_df = pd.read_parquet('data/total_df.parquet', engine = 'pyarrow') # fastparquet\n",
    "\n",
    "total_df = total_df[total_df['year'] != 2021] # we will not be using 2021 because the data is flawed and incomplete\n",
    "print(total_df.shape)"
   ]
  },
  {
   "cell_type": "code",
   "execution_count": 7,
   "metadata": {
    "executionInfo": {
     "elapsed": 35,
     "status": "ok",
     "timestamp": 1677492745704,
     "user": {
      "displayName": "gyungyoonpark",
      "userId": "16303404270082910683"
     },
     "user_tz": -120
    },
    "id": "B26lOvJkZCrq"
   },
   "outputs": [],
   "source": [
    "# setting numerical columns and categorical columns\n",
    "\n",
    "# these are the numerical columns that we will actually use \n",
    "selected_numerical_columns = ['m (kg)',  'At1 (mm)', 'ec (cm3)']\n",
    "\n",
    "# we are not using 'year' as a feature. the reason for that is when we later predict future \n",
    "# Co2 emission of a car, the car's data can be from 2023, for example, and the 2023 isn't in the \n",
    "# feature category\n",
    "\n",
    "\n",
    "# these are the categorical columns that we will actually use \n",
    "selected_categorical_columns = ['Ct', 'Mp', 'Ft', 'Fm', 'Country'] \n",
    "# Mh has about 200 values, and it only increases 1%. so we will not use it \n",
    "### We are not using Cn, model name\n",
    "\n",
    "all_year = [2010, 2011, 2012, 2013, 2014, 2015, 2016, 2017, 2018, 2019, 2020] # we will not be using 2021"
   ]
  },
  {
   "cell_type": "markdown",
   "metadata": {
    "id": "E7D7nzwK89Mr"
   },
   "source": [
    "# Supervised Learning"
   ]
  },
  {
   "cell_type": "markdown",
   "metadata": {
    "id": "xOsbjRmDsgcb"
   },
   "source": [
    "## Preprocessing the data"
   ]
  },
  {
   "cell_type": "code",
   "execution_count": 9,
   "metadata": {
    "colab": {
     "base_uri": "https://localhost:8080/"
    },
    "executionInfo": {
     "elapsed": 19291,
     "status": "ok",
     "timestamp": 1677492764964,
     "user": {
      "displayName": "gyungyoonpark",
      "userId": "16303404270082910683"
     },
     "user_tz": -120
    },
    "id": "QIgYtZ-v7qq_",
    "outputId": "f565b03c-5668-4e40-b9f6-950979a43126"
   },
   "outputs": [
    {
     "name": "stdout",
     "output_type": "stream",
     "text": [
      "(8405437, 38)\n",
      "(8405437, 9)\n",
      "(8405437, 9)\n",
      "shape of the non-duplicate data from 2010~2020 (862446, 9)\n"
     ]
    }
   ],
   "source": [
    "target_year = all_year # 2010~2020\n",
    "target_df = total_df[total_df['year'].isin(target_year)]\n",
    "print(target_df.shape)\n",
    "\n",
    "label_column = ['Enedc (g/km)']\n",
    "feature_columns = selected_numerical_columns + selected_categorical_columns\n",
    "target_columns = feature_columns + label_column\n",
    "\n",
    "target_df = target_df[target_columns]\n",
    "target_df.reset_index(drop=True, inplace=True)\n",
    "print(target_df.shape)\n",
    "\n",
    "target_df.loc[target_df['Ct'] == '', 'Ct'] = 'empty' # in order to prevent ohe error \n",
    "# 나중에 OHE 할때, value 값이 컬럼명이 되는데, 그때 컬럼명이 빈칸이 되어서 오류가 난다. 그것을 방지\n",
    "########### None 값은 오류 안냄? 나중에 확인 필요\n",
    "\n",
    "# let's drop rows that any value is nan\n",
    "target_df.dropna(subset=target_df.columns.difference(label_column)).shape\n",
    "print(target_df.shape)\n",
    "\n",
    "# delete duplicate rows\n",
    "target_df = target_df.dropna().drop_duplicates()\n",
    "target_df.reset_index(drop=True, inplace=True)\n",
    "print('shape of the non-duplicate data from 2010~2020', target_df.shape)"
   ]
  },
  {
   "cell_type": "code",
   "execution_count": 88,
   "metadata": {
    "colab": {
     "base_uri": "https://localhost:8080/",
     "height": 206
    },
    "executionInfo": {
     "elapsed": 9,
     "status": "ok",
     "timestamp": 1677509942279,
     "user": {
      "displayName": "gyungyoonpark",
      "userId": "16303404270082910683"
     },
     "user_tz": -120
    },
    "id": "eXtUw_RzTdre",
    "outputId": "8cd7e142-4619-4b05-8109-2339535c6a81"
   },
   "outputs": [
    {
     "data": {
      "text/html": [
       "\n",
       "  <div id=\"df-c0258c42-d29b-4c07-b6f3-e3b2e4f7e9f3\">\n",
       "    <div class=\"colab-df-container\">\n",
       "      <div>\n",
       "<style scoped>\n",
       "    .dataframe tbody tr th:only-of-type {\n",
       "        vertical-align: middle;\n",
       "    }\n",
       "\n",
       "    .dataframe tbody tr th {\n",
       "        vertical-align: top;\n",
       "    }\n",
       "\n",
       "    .dataframe thead th {\n",
       "        text-align: right;\n",
       "    }\n",
       "</style>\n",
       "<table border=\"1\" class=\"dataframe\">\n",
       "  <thead>\n",
       "    <tr style=\"text-align: right;\">\n",
       "      <th></th>\n",
       "      <th>m (kg)</th>\n",
       "      <th>At1 (mm)</th>\n",
       "      <th>ec (cm3)</th>\n",
       "      <th>Ct</th>\n",
       "      <th>Mp</th>\n",
       "      <th>Ft</th>\n",
       "      <th>Fm</th>\n",
       "      <th>Country</th>\n",
       "      <th>Enedc (g/km)</th>\n",
       "    </tr>\n",
       "  </thead>\n",
       "  <tbody>\n",
       "    <tr>\n",
       "      <th>0</th>\n",
       "      <td>1340.000</td>\n",
       "      <td>1484.000</td>\n",
       "      <td>1995.000</td>\n",
       "      <td>m1</td>\n",
       "      <td>bmw</td>\n",
       "      <td>petrol</td>\n",
       "      <td>m</td>\n",
       "      <td>gb</td>\n",
       "      <td>143.000</td>\n",
       "    </tr>\n",
       "    <tr>\n",
       "      <th>1</th>\n",
       "      <td>1395.000</td>\n",
       "      <td>1484.000</td>\n",
       "      <td>1995.000</td>\n",
       "      <td>m1</td>\n",
       "      <td>bmw</td>\n",
       "      <td>diesel</td>\n",
       "      <td>m</td>\n",
       "      <td>gb</td>\n",
       "      <td>119.000</td>\n",
       "    </tr>\n",
       "    <tr>\n",
       "      <th>2</th>\n",
       "      <td>1350.000</td>\n",
       "      <td>1484.000</td>\n",
       "      <td>1995.000</td>\n",
       "      <td>m1</td>\n",
       "      <td>bmw</td>\n",
       "      <td>petrol</td>\n",
       "      <td>m</td>\n",
       "      <td>gb</td>\n",
       "      <td>143.000</td>\n",
       "    </tr>\n",
       "    <tr>\n",
       "      <th>3</th>\n",
       "      <td>1495.000</td>\n",
       "      <td>1474.000</td>\n",
       "      <td>1995.000</td>\n",
       "      <td>m1</td>\n",
       "      <td>bmw</td>\n",
       "      <td>diesel</td>\n",
       "      <td>m</td>\n",
       "      <td>gb</td>\n",
       "      <td>135.000</td>\n",
       "    </tr>\n",
       "    <tr>\n",
       "      <th>4</th>\n",
       "      <td>1360.000</td>\n",
       "      <td>1484.000</td>\n",
       "      <td>1995.000</td>\n",
       "      <td>m1</td>\n",
       "      <td>bmw</td>\n",
       "      <td>petrol</td>\n",
       "      <td>m</td>\n",
       "      <td>gb</td>\n",
       "      <td>154.000</td>\n",
       "    </tr>\n",
       "  </tbody>\n",
       "</table>\n",
       "</div>\n",
       "      <button class=\"colab-df-convert\" onclick=\"convertToInteractive('df-c0258c42-d29b-4c07-b6f3-e3b2e4f7e9f3')\"\n",
       "              title=\"Convert this dataframe to an interactive table.\"\n",
       "              style=\"display:none;\">\n",
       "        \n",
       "  <svg xmlns=\"http://www.w3.org/2000/svg\" height=\"24px\"viewBox=\"0 0 24 24\"\n",
       "       width=\"24px\">\n",
       "    <path d=\"M0 0h24v24H0V0z\" fill=\"none\"/>\n",
       "    <path d=\"M18.56 5.44l.94 2.06.94-2.06 2.06-.94-2.06-.94-.94-2.06-.94 2.06-2.06.94zm-11 1L8.5 8.5l.94-2.06 2.06-.94-2.06-.94L8.5 2.5l-.94 2.06-2.06.94zm10 10l.94 2.06.94-2.06 2.06-.94-2.06-.94-.94-2.06-.94 2.06-2.06.94z\"/><path d=\"M17.41 7.96l-1.37-1.37c-.4-.4-.92-.59-1.43-.59-.52 0-1.04.2-1.43.59L10.3 9.45l-7.72 7.72c-.78.78-.78 2.05 0 2.83L4 21.41c.39.39.9.59 1.41.59.51 0 1.02-.2 1.41-.59l7.78-7.78 2.81-2.81c.8-.78.8-2.07 0-2.86zM5.41 20L4 18.59l7.72-7.72 1.47 1.35L5.41 20z\"/>\n",
       "  </svg>\n",
       "      </button>\n",
       "      \n",
       "  <style>\n",
       "    .colab-df-container {\n",
       "      display:flex;\n",
       "      flex-wrap:wrap;\n",
       "      gap: 12px;\n",
       "    }\n",
       "\n",
       "    .colab-df-convert {\n",
       "      background-color: #E8F0FE;\n",
       "      border: none;\n",
       "      border-radius: 50%;\n",
       "      cursor: pointer;\n",
       "      display: none;\n",
       "      fill: #1967D2;\n",
       "      height: 32px;\n",
       "      padding: 0 0 0 0;\n",
       "      width: 32px;\n",
       "    }\n",
       "\n",
       "    .colab-df-convert:hover {\n",
       "      background-color: #E2EBFA;\n",
       "      box-shadow: 0px 1px 2px rgba(60, 64, 67, 0.3), 0px 1px 3px 1px rgba(60, 64, 67, 0.15);\n",
       "      fill: #174EA6;\n",
       "    }\n",
       "\n",
       "    [theme=dark] .colab-df-convert {\n",
       "      background-color: #3B4455;\n",
       "      fill: #D2E3FC;\n",
       "    }\n",
       "\n",
       "    [theme=dark] .colab-df-convert:hover {\n",
       "      background-color: #434B5C;\n",
       "      box-shadow: 0px 1px 3px 1px rgba(0, 0, 0, 0.15);\n",
       "      filter: drop-shadow(0px 1px 2px rgba(0, 0, 0, 0.3));\n",
       "      fill: #FFFFFF;\n",
       "    }\n",
       "  </style>\n",
       "\n",
       "      <script>\n",
       "        const buttonEl =\n",
       "          document.querySelector('#df-c0258c42-d29b-4c07-b6f3-e3b2e4f7e9f3 button.colab-df-convert');\n",
       "        buttonEl.style.display =\n",
       "          google.colab.kernel.accessAllowed ? 'block' : 'none';\n",
       "\n",
       "        async function convertToInteractive(key) {\n",
       "          const element = document.querySelector('#df-c0258c42-d29b-4c07-b6f3-e3b2e4f7e9f3');\n",
       "          const dataTable =\n",
       "            await google.colab.kernel.invokeFunction('convertToInteractive',\n",
       "                                                     [key], {});\n",
       "          if (!dataTable) return;\n",
       "\n",
       "          const docLinkHtml = 'Like what you see? Visit the ' +\n",
       "            '<a target=\"_blank\" href=https://colab.research.google.com/notebooks/data_table.ipynb>data table notebook</a>'\n",
       "            + ' to learn more about interactive tables.';\n",
       "          element.innerHTML = '';\n",
       "          dataTable['output_type'] = 'display_data';\n",
       "          await google.colab.output.renderOutput(dataTable, element);\n",
       "          const docLink = document.createElement('div');\n",
       "          docLink.innerHTML = docLinkHtml;\n",
       "          element.appendChild(docLink);\n",
       "        }\n",
       "      </script>\n",
       "    </div>\n",
       "  </div>\n",
       "  "
      ],
      "text/plain": [
       "    m (kg)  At1 (mm)  ec (cm3)  Ct   Mp      Ft Fm Country  Enedc (g/km)\n",
       "0 1340.000  1484.000  1995.000  m1  bmw  petrol  m      gb       143.000\n",
       "1 1395.000  1484.000  1995.000  m1  bmw  diesel  m      gb       119.000\n",
       "2 1350.000  1484.000  1995.000  m1  bmw  petrol  m      gb       143.000\n",
       "3 1495.000  1474.000  1995.000  m1  bmw  diesel  m      gb       135.000\n",
       "4 1360.000  1484.000  1995.000  m1  bmw  petrol  m      gb       154.000"
      ]
     },
     "execution_count": 88,
     "metadata": {},
     "output_type": "execute_result"
    }
   ],
   "source": [
    "target_df.head()"
   ]
  },
  {
   "cell_type": "markdown",
   "metadata": {
    "id": "mXlf5-PLsHZ3"
   },
   "source": [
    "## Data Split"
   ]
  },
  {
   "cell_type": "code",
   "execution_count": 16,
   "metadata": {
    "executionInfo": {
     "elapsed": 462,
     "status": "ok",
     "timestamp": 1677492774116,
     "user": {
      "displayName": "gyungyoonpark",
      "userId": "16303404270082910683"
     },
     "user_tz": -120
    },
    "id": "tlKfjqv7sHRr"
   },
   "outputs": [],
   "source": [
    "from sklearn.model_selection import train_test_split\n",
    "\n",
    "x_train, x_valid, y_train, y_valid = train_test_split(target_df[feature_columns], target_df[label_column], \n",
    "                                                      test_size=0.2,\n",
    "                                                      shuffle=True)\n",
    "\n",
    "x_train.reset_index(drop=True, inplace=True)\n",
    "x_valid.reset_index(drop=True, inplace=True)"
   ]
  },
  {
   "cell_type": "markdown",
   "metadata": {
    "id": "JxlXT-4eSPx3"
   },
   "source": [
    "## Scaling"
   ]
  },
  {
   "cell_type": "code",
   "execution_count": 17,
   "metadata": {
    "executionInfo": {
     "elapsed": 2,
     "status": "ok",
     "timestamp": 1677492774665,
     "user": {
      "displayName": "gyungyoonpark",
      "userId": "16303404270082910683"
     },
     "user_tz": -120
    },
    "id": "FzFndXGSh1M3"
   },
   "outputs": [],
   "source": [
    "from sklearn.preprocessing import MinMaxScaler, StandardScaler\n",
    "\n",
    "scaler = MinMaxScaler()\n",
    "x_train[selected_numerical_columns] = scaler.fit_transform(x_train[selected_numerical_columns])\n",
    "x_valid[selected_numerical_columns] = scaler.transform(x_valid[selected_numerical_columns])"
   ]
  },
  {
   "cell_type": "code",
   "execution_count": 18,
   "metadata": {
    "executionInfo": {
     "elapsed": 7,
     "status": "ok",
     "timestamp": 1677492775513,
     "user": {
      "displayName": "gyungyoonpark",
      "userId": "16303404270082910683"
     },
     "user_tz": -120
    },
    "id": "6zY_ojMoh1Q3"
   },
   "outputs": [],
   "source": [
    "for column in selected_categorical_columns:\n",
    "    if not set(x_valid[column].unique()).issubset(set(x_train[column].unique())):\n",
    "        print(x_train[column].unique())\n",
    "        print(x_valid[column].unique())\n",
    "\n",
    "### There should be no result from this cell ####\n",
    "### if there is an output, go back to data split and re-run"
   ]
  },
  {
   "cell_type": "markdown",
   "metadata": {
    "id": "d59PiIJ0vSjO"
   },
   "source": [
    "## One Hot Encoding"
   ]
  },
  {
   "cell_type": "code",
   "execution_count": 19,
   "metadata": {
    "executionInfo": {
     "elapsed": 2159,
     "status": "ok",
     "timestamp": 1677492782369,
     "user": {
      "displayName": "gyungyoonpark",
      "userId": "16303404270082910683"
     },
     "user_tz": -120
    },
    "id": "1tQRHbvA1ZBz"
   },
   "outputs": [],
   "source": [
    "from sklearn.preprocessing import OneHotEncoder\n",
    "ohe = OneHotEncoder(sparse = False) \n",
    "\n",
    "ohe.fit(x_train[selected_categorical_columns])\n",
    "\n",
    "new_x_train_cat = ohe.transform(x_train[selected_categorical_columns])\n",
    "new_x_valid_cat = ohe.transform(x_valid[selected_categorical_columns])\n",
    "\n",
    "# ohe columns\n",
    "ohe_columns = []\n",
    "for idx in range(len(ohe.categories_)):\n",
    "    ohe_columns += ohe.categories_[idx].tolist()\n",
    "\n",
    "# pd.Dataframe\n",
    "new_x_train_cat = pd.DataFrame(new_x_train_cat, columns= ohe_columns)\n",
    "new_x_valid_cat = pd.DataFrame(new_x_valid_cat, columns= ohe_columns)\n"
   ]
  },
  {
   "cell_type": "code",
   "execution_count": 20,
   "metadata": {
    "colab": {
     "base_uri": "https://localhost:8080/"
    },
    "executionInfo": {
     "elapsed": 2318,
     "status": "ok",
     "timestamp": 1677492784677,
     "user": {
      "displayName": "gyungyoonpark",
      "userId": "16303404270082910683"
     },
     "user_tz": -120
    },
    "id": "e1ptXG-91Y8A",
    "outputId": "f183dfbe-35a5-44c3-f8a0-c98aed1ff76f"
   },
   "outputs": [
    {
     "name": "stdout",
     "output_type": "stream",
     "text": [
      "(689956, 8) (689956, 101)\n",
      "(172490, 8) (172490, 101)\n",
      "(689956, 104)\n",
      "(172490, 104)\n"
     ]
    }
   ],
   "source": [
    "# the number of rows matches\n",
    "print(x_train.shape, new_x_train_cat.shape)\n",
    "print(x_valid.shape, new_x_valid_cat.shape)\n",
    "\n",
    "# delete original categorical columns\n",
    "x_train.drop(columns=selected_categorical_columns, inplace=True)\n",
    "x_valid.drop(columns=selected_categorical_columns, inplace=True)\n",
    "\n",
    "# add OHE\n",
    "x_train = pd.concat([x_train, new_x_train_cat], axis=1)\n",
    "x_valid = pd.concat([x_valid, new_x_valid_cat], axis=1)\n",
    "\n",
    "\n",
    "print(x_train.shape)\n",
    "print(x_valid.shape)"
   ]
  },
  {
   "cell_type": "code",
   "execution_count": 89,
   "metadata": {
    "colab": {
     "base_uri": "https://localhost:8080/",
     "height": 392
    },
    "executionInfo": {
     "elapsed": 8,
     "status": "ok",
     "timestamp": 1677509942279,
     "user": {
      "displayName": "gyungyoonpark",
      "userId": "16303404270082910683"
     },
     "user_tz": -120
    },
    "id": "3vECCF4qTkNx",
    "outputId": "7058095f-3996-447a-c26a-2f0b7ab4a6c0"
   },
   "outputs": [
    {
     "data": {
      "text/html": [
       "\n",
       "  <div id=\"df-07b77241-649b-41ae-b835-dc1dd369370a\">\n",
       "    <div class=\"colab-df-container\">\n",
       "      <div>\n",
       "<style scoped>\n",
       "    .dataframe tbody tr th:only-of-type {\n",
       "        vertical-align: middle;\n",
       "    }\n",
       "\n",
       "    .dataframe tbody tr th {\n",
       "        vertical-align: top;\n",
       "    }\n",
       "\n",
       "    .dataframe thead th {\n",
       "        text-align: right;\n",
       "    }\n",
       "</style>\n",
       "<table border=\"1\" class=\"dataframe\">\n",
       "  <thead>\n",
       "    <tr style=\"text-align: right;\">\n",
       "      <th></th>\n",
       "      <th>m (kg)</th>\n",
       "      <th>At1 (mm)</th>\n",
       "      <th>ec (cm3)</th>\n",
       "      <th>empty</th>\n",
       "      <th>m1</th>\n",
       "      <th>m1g</th>\n",
       "      <th>n1</th>\n",
       "      <th>n1g</th>\n",
       "      <th>n2</th>\n",
       "      <th>bmw</th>\n",
       "      <th>bmw group</th>\n",
       "      <th>daimler</th>\n",
       "      <th>daimler ag</th>\n",
       "      <th>fca</th>\n",
       "      <th>fca italy spa</th>\n",
       "      <th>fca-tesla</th>\n",
       "      <th>fiat group automobiles spa</th>\n",
       "      <th>ford pool</th>\n",
       "      <th>ford-volvo</th>\n",
       "      <th>ford-werke gmbh</th>\n",
       "      <th>general motors</th>\n",
       "      <th>gm</th>\n",
       "      <th>honda</th>\n",
       "      <th>honda motor europe ltd</th>\n",
       "      <th>hyundai</th>\n",
       "      <th>jlt pool</th>\n",
       "      <th>kia</th>\n",
       "      <th>mercedes-benz</th>\n",
       "      <th>mg-saic</th>\n",
       "      <th>mitsubishi motors</th>\n",
       "      <th>mitsubishi pool</th>\n",
       "      <th>na</th>\n",
       "      <th>pool renault</th>\n",
       "      <th>psa-opel</th>\n",
       "      <th>renault</th>\n",
       "      <th>renault-nissan-mitsubishi</th>\n",
       "      <th>suzuki</th>\n",
       "      <th>suzuki pool</th>\n",
       "      <th>tata motors jaguar land rover</th>\n",
       "      <th>tata motors ltd, jaguar cars ltd , land rover</th>\n",
       "      <th>tata motors ltd, jaguar cars ltd, land rover</th>\n",
       "      <th>tjl</th>\n",
       "      <th>toyota -daihatsu group</th>\n",
       "      <th>toyota-dahaitsu group</th>\n",
       "      <th>toyota-daihatsu group</th>\n",
       "      <th>toyota-mazda</th>\n",
       "      <th>vw group pc</th>\n",
       "      <th>vw-saic</th>\n",
       "      <th>biodiesel</th>\n",
       "      <th>cng</th>\n",
       "      <th>diesel</th>\n",
       "      <th>diesel-electric</th>\n",
       "      <th>e85</th>\n",
       "      <th>electric</th>\n",
       "      <th>hybrid-petrol-e</th>\n",
       "      <th>hydrogen</th>\n",
       "      <th>lpg</th>\n",
       "      <th>ng</th>\n",
       "      <th>ng-biomethane</th>\n",
       "      <th>ng_biomethane</th>\n",
       "      <th>other</th>\n",
       "      <th>petrol</th>\n",
       "      <th>petrol phev</th>\n",
       "      <th>petrol-electric</th>\n",
       "      <th>petrol-gas</th>\n",
       "      <th>2</th>\n",
       "      <th>b</th>\n",
       "      <th>e</th>\n",
       "      <th>f</th>\n",
       "      <th>h</th>\n",
       "      <th>m</th>\n",
       "      <th>n</th>\n",
       "      <th>na</th>\n",
       "      <th>p</th>\n",
       "      <th>at</th>\n",
       "      <th>be</th>\n",
       "      <th>bg</th>\n",
       "      <th>cy</th>\n",
       "      <th>cz</th>\n",
       "      <th>de</th>\n",
       "      <th>dk</th>\n",
       "      <th>ee</th>\n",
       "      <th>es</th>\n",
       "      <th>fi</th>\n",
       "      <th>fr</th>\n",
       "      <th>gb</th>\n",
       "      <th>gr</th>\n",
       "      <th>hr</th>\n",
       "      <th>hu</th>\n",
       "      <th>ie</th>\n",
       "      <th>is</th>\n",
       "      <th>it</th>\n",
       "      <th>lt</th>\n",
       "      <th>lu</th>\n",
       "      <th>lv</th>\n",
       "      <th>mt</th>\n",
       "      <th>nl</th>\n",
       "      <th>no</th>\n",
       "      <th>pl</th>\n",
       "      <th>pt</th>\n",
       "      <th>ro</th>\n",
       "      <th>se</th>\n",
       "      <th>si</th>\n",
       "      <th>sk</th>\n",
       "    </tr>\n",
       "  </thead>\n",
       "  <tbody>\n",
       "    <tr>\n",
       "      <th>0</th>\n",
       "      <td>0.212</td>\n",
       "      <td>0.094</td>\n",
       "      <td>0.188</td>\n",
       "      <td>0.000</td>\n",
       "      <td>1.000</td>\n",
       "      <td>0.000</td>\n",
       "      <td>0.000</td>\n",
       "      <td>0.000</td>\n",
       "      <td>0.000</td>\n",
       "      <td>0.000</td>\n",
       "      <td>0.000</td>\n",
       "      <td>0.000</td>\n",
       "      <td>0.000</td>\n",
       "      <td>0.000</td>\n",
       "      <td>0.000</td>\n",
       "      <td>0.000</td>\n",
       "      <td>0.000</td>\n",
       "      <td>0.000</td>\n",
       "      <td>0.000</td>\n",
       "      <td>0.000</td>\n",
       "      <td>0.000</td>\n",
       "      <td>0.000</td>\n",
       "      <td>0.000</td>\n",
       "      <td>0.000</td>\n",
       "      <td>0.000</td>\n",
       "      <td>0.000</td>\n",
       "      <td>1.000</td>\n",
       "      <td>0.000</td>\n",
       "      <td>0.000</td>\n",
       "      <td>0.000</td>\n",
       "      <td>0.000</td>\n",
       "      <td>0.000</td>\n",
       "      <td>0.000</td>\n",
       "      <td>0.000</td>\n",
       "      <td>0.000</td>\n",
       "      <td>0.000</td>\n",
       "      <td>0.000</td>\n",
       "      <td>0.000</td>\n",
       "      <td>0.000</td>\n",
       "      <td>0.000</td>\n",
       "      <td>0.000</td>\n",
       "      <td>0.000</td>\n",
       "      <td>0.000</td>\n",
       "      <td>0.000</td>\n",
       "      <td>0.000</td>\n",
       "      <td>0.000</td>\n",
       "      <td>0.000</td>\n",
       "      <td>0.000</td>\n",
       "      <td>0.000</td>\n",
       "      <td>0.000</td>\n",
       "      <td>1.000</td>\n",
       "      <td>0.000</td>\n",
       "      <td>0.000</td>\n",
       "      <td>0.000</td>\n",
       "      <td>0.000</td>\n",
       "      <td>0.000</td>\n",
       "      <td>0.000</td>\n",
       "      <td>0.000</td>\n",
       "      <td>0.000</td>\n",
       "      <td>0.000</td>\n",
       "      <td>0.000</td>\n",
       "      <td>0.000</td>\n",
       "      <td>0.000</td>\n",
       "      <td>0.000</td>\n",
       "      <td>0.000</td>\n",
       "      <td>0.000</td>\n",
       "      <td>0.000</td>\n",
       "      <td>0.000</td>\n",
       "      <td>0.000</td>\n",
       "      <td>0.000</td>\n",
       "      <td>1.000</td>\n",
       "      <td>0.000</td>\n",
       "      <td>0.000</td>\n",
       "      <td>0.000</td>\n",
       "      <td>0.000</td>\n",
       "      <td>0.000</td>\n",
       "      <td>0.000</td>\n",
       "      <td>0.000</td>\n",
       "      <td>0.000</td>\n",
       "      <td>0.000</td>\n",
       "      <td>0.000</td>\n",
       "      <td>1.000</td>\n",
       "      <td>0.000</td>\n",
       "      <td>0.000</td>\n",
       "      <td>0.000</td>\n",
       "      <td>0.000</td>\n",
       "      <td>0.000</td>\n",
       "      <td>0.000</td>\n",
       "      <td>0.000</td>\n",
       "      <td>0.000</td>\n",
       "      <td>0.000</td>\n",
       "      <td>0.000</td>\n",
       "      <td>0.000</td>\n",
       "      <td>0.000</td>\n",
       "      <td>0.000</td>\n",
       "      <td>0.000</td>\n",
       "      <td>0.000</td>\n",
       "      <td>0.000</td>\n",
       "      <td>0.000</td>\n",
       "      <td>0.000</td>\n",
       "      <td>0.000</td>\n",
       "      <td>0.000</td>\n",
       "      <td>0.000</td>\n",
       "      <td>0.000</td>\n",
       "    </tr>\n",
       "    <tr>\n",
       "      <th>1</th>\n",
       "      <td>0.218</td>\n",
       "      <td>0.091</td>\n",
       "      <td>0.234</td>\n",
       "      <td>0.000</td>\n",
       "      <td>1.000</td>\n",
       "      <td>0.000</td>\n",
       "      <td>0.000</td>\n",
       "      <td>0.000</td>\n",
       "      <td>0.000</td>\n",
       "      <td>0.000</td>\n",
       "      <td>0.000</td>\n",
       "      <td>0.000</td>\n",
       "      <td>1.000</td>\n",
       "      <td>0.000</td>\n",
       "      <td>0.000</td>\n",
       "      <td>0.000</td>\n",
       "      <td>0.000</td>\n",
       "      <td>0.000</td>\n",
       "      <td>0.000</td>\n",
       "      <td>0.000</td>\n",
       "      <td>0.000</td>\n",
       "      <td>0.000</td>\n",
       "      <td>0.000</td>\n",
       "      <td>0.000</td>\n",
       "      <td>0.000</td>\n",
       "      <td>0.000</td>\n",
       "      <td>0.000</td>\n",
       "      <td>0.000</td>\n",
       "      <td>0.000</td>\n",
       "      <td>0.000</td>\n",
       "      <td>0.000</td>\n",
       "      <td>0.000</td>\n",
       "      <td>0.000</td>\n",
       "      <td>0.000</td>\n",
       "      <td>0.000</td>\n",
       "      <td>0.000</td>\n",
       "      <td>0.000</td>\n",
       "      <td>0.000</td>\n",
       "      <td>0.000</td>\n",
       "      <td>0.000</td>\n",
       "      <td>0.000</td>\n",
       "      <td>0.000</td>\n",
       "      <td>0.000</td>\n",
       "      <td>0.000</td>\n",
       "      <td>0.000</td>\n",
       "      <td>0.000</td>\n",
       "      <td>0.000</td>\n",
       "      <td>0.000</td>\n",
       "      <td>0.000</td>\n",
       "      <td>0.000</td>\n",
       "      <td>0.000</td>\n",
       "      <td>0.000</td>\n",
       "      <td>0.000</td>\n",
       "      <td>0.000</td>\n",
       "      <td>0.000</td>\n",
       "      <td>0.000</td>\n",
       "      <td>0.000</td>\n",
       "      <td>0.000</td>\n",
       "      <td>0.000</td>\n",
       "      <td>0.000</td>\n",
       "      <td>0.000</td>\n",
       "      <td>1.000</td>\n",
       "      <td>0.000</td>\n",
       "      <td>0.000</td>\n",
       "      <td>0.000</td>\n",
       "      <td>0.000</td>\n",
       "      <td>0.000</td>\n",
       "      <td>0.000</td>\n",
       "      <td>0.000</td>\n",
       "      <td>0.000</td>\n",
       "      <td>1.000</td>\n",
       "      <td>0.000</td>\n",
       "      <td>0.000</td>\n",
       "      <td>0.000</td>\n",
       "      <td>0.000</td>\n",
       "      <td>0.000</td>\n",
       "      <td>0.000</td>\n",
       "      <td>0.000</td>\n",
       "      <td>0.000</td>\n",
       "      <td>1.000</td>\n",
       "      <td>0.000</td>\n",
       "      <td>0.000</td>\n",
       "      <td>0.000</td>\n",
       "      <td>0.000</td>\n",
       "      <td>0.000</td>\n",
       "      <td>0.000</td>\n",
       "      <td>0.000</td>\n",
       "      <td>0.000</td>\n",
       "      <td>0.000</td>\n",
       "      <td>0.000</td>\n",
       "      <td>0.000</td>\n",
       "      <td>0.000</td>\n",
       "      <td>0.000</td>\n",
       "      <td>0.000</td>\n",
       "      <td>0.000</td>\n",
       "      <td>0.000</td>\n",
       "      <td>0.000</td>\n",
       "      <td>0.000</td>\n",
       "      <td>0.000</td>\n",
       "      <td>0.000</td>\n",
       "      <td>0.000</td>\n",
       "      <td>0.000</td>\n",
       "      <td>0.000</td>\n",
       "      <td>0.000</td>\n",
       "    </tr>\n",
       "    <tr>\n",
       "      <th>2</th>\n",
       "      <td>0.354</td>\n",
       "      <td>0.099</td>\n",
       "      <td>0.252</td>\n",
       "      <td>0.000</td>\n",
       "      <td>1.000</td>\n",
       "      <td>0.000</td>\n",
       "      <td>0.000</td>\n",
       "      <td>0.000</td>\n",
       "      <td>0.000</td>\n",
       "      <td>0.000</td>\n",
       "      <td>0.000</td>\n",
       "      <td>0.000</td>\n",
       "      <td>1.000</td>\n",
       "      <td>0.000</td>\n",
       "      <td>0.000</td>\n",
       "      <td>0.000</td>\n",
       "      <td>0.000</td>\n",
       "      <td>0.000</td>\n",
       "      <td>0.000</td>\n",
       "      <td>0.000</td>\n",
       "      <td>0.000</td>\n",
       "      <td>0.000</td>\n",
       "      <td>0.000</td>\n",
       "      <td>0.000</td>\n",
       "      <td>0.000</td>\n",
       "      <td>0.000</td>\n",
       "      <td>0.000</td>\n",
       "      <td>0.000</td>\n",
       "      <td>0.000</td>\n",
       "      <td>0.000</td>\n",
       "      <td>0.000</td>\n",
       "      <td>0.000</td>\n",
       "      <td>0.000</td>\n",
       "      <td>0.000</td>\n",
       "      <td>0.000</td>\n",
       "      <td>0.000</td>\n",
       "      <td>0.000</td>\n",
       "      <td>0.000</td>\n",
       "      <td>0.000</td>\n",
       "      <td>0.000</td>\n",
       "      <td>0.000</td>\n",
       "      <td>0.000</td>\n",
       "      <td>0.000</td>\n",
       "      <td>0.000</td>\n",
       "      <td>0.000</td>\n",
       "      <td>0.000</td>\n",
       "      <td>0.000</td>\n",
       "      <td>0.000</td>\n",
       "      <td>0.000</td>\n",
       "      <td>0.000</td>\n",
       "      <td>1.000</td>\n",
       "      <td>0.000</td>\n",
       "      <td>0.000</td>\n",
       "      <td>0.000</td>\n",
       "      <td>0.000</td>\n",
       "      <td>0.000</td>\n",
       "      <td>0.000</td>\n",
       "      <td>0.000</td>\n",
       "      <td>0.000</td>\n",
       "      <td>0.000</td>\n",
       "      <td>0.000</td>\n",
       "      <td>0.000</td>\n",
       "      <td>0.000</td>\n",
       "      <td>0.000</td>\n",
       "      <td>0.000</td>\n",
       "      <td>0.000</td>\n",
       "      <td>0.000</td>\n",
       "      <td>0.000</td>\n",
       "      <td>0.000</td>\n",
       "      <td>0.000</td>\n",
       "      <td>1.000</td>\n",
       "      <td>0.000</td>\n",
       "      <td>0.000</td>\n",
       "      <td>0.000</td>\n",
       "      <td>1.000</td>\n",
       "      <td>0.000</td>\n",
       "      <td>0.000</td>\n",
       "      <td>0.000</td>\n",
       "      <td>0.000</td>\n",
       "      <td>0.000</td>\n",
       "      <td>0.000</td>\n",
       "      <td>0.000</td>\n",
       "      <td>0.000</td>\n",
       "      <td>0.000</td>\n",
       "      <td>0.000</td>\n",
       "      <td>0.000</td>\n",
       "      <td>0.000</td>\n",
       "      <td>0.000</td>\n",
       "      <td>0.000</td>\n",
       "      <td>0.000</td>\n",
       "      <td>0.000</td>\n",
       "      <td>0.000</td>\n",
       "      <td>0.000</td>\n",
       "      <td>0.000</td>\n",
       "      <td>0.000</td>\n",
       "      <td>0.000</td>\n",
       "      <td>0.000</td>\n",
       "      <td>0.000</td>\n",
       "      <td>0.000</td>\n",
       "      <td>0.000</td>\n",
       "      <td>0.000</td>\n",
       "      <td>0.000</td>\n",
       "      <td>0.000</td>\n",
       "      <td>0.000</td>\n",
       "    </tr>\n",
       "    <tr>\n",
       "      <th>3</th>\n",
       "      <td>0.267</td>\n",
       "      <td>0.091</td>\n",
       "      <td>0.588</td>\n",
       "      <td>0.000</td>\n",
       "      <td>1.000</td>\n",
       "      <td>0.000</td>\n",
       "      <td>0.000</td>\n",
       "      <td>0.000</td>\n",
       "      <td>0.000</td>\n",
       "      <td>0.000</td>\n",
       "      <td>0.000</td>\n",
       "      <td>0.000</td>\n",
       "      <td>0.000</td>\n",
       "      <td>0.000</td>\n",
       "      <td>0.000</td>\n",
       "      <td>0.000</td>\n",
       "      <td>0.000</td>\n",
       "      <td>0.000</td>\n",
       "      <td>0.000</td>\n",
       "      <td>0.000</td>\n",
       "      <td>0.000</td>\n",
       "      <td>0.000</td>\n",
       "      <td>0.000</td>\n",
       "      <td>0.000</td>\n",
       "      <td>0.000</td>\n",
       "      <td>0.000</td>\n",
       "      <td>0.000</td>\n",
       "      <td>0.000</td>\n",
       "      <td>0.000</td>\n",
       "      <td>0.000</td>\n",
       "      <td>0.000</td>\n",
       "      <td>0.000</td>\n",
       "      <td>0.000</td>\n",
       "      <td>0.000</td>\n",
       "      <td>0.000</td>\n",
       "      <td>0.000</td>\n",
       "      <td>0.000</td>\n",
       "      <td>0.000</td>\n",
       "      <td>0.000</td>\n",
       "      <td>1.000</td>\n",
       "      <td>0.000</td>\n",
       "      <td>0.000</td>\n",
       "      <td>0.000</td>\n",
       "      <td>0.000</td>\n",
       "      <td>0.000</td>\n",
       "      <td>0.000</td>\n",
       "      <td>0.000</td>\n",
       "      <td>0.000</td>\n",
       "      <td>0.000</td>\n",
       "      <td>0.000</td>\n",
       "      <td>0.000</td>\n",
       "      <td>0.000</td>\n",
       "      <td>0.000</td>\n",
       "      <td>0.000</td>\n",
       "      <td>0.000</td>\n",
       "      <td>0.000</td>\n",
       "      <td>0.000</td>\n",
       "      <td>0.000</td>\n",
       "      <td>0.000</td>\n",
       "      <td>0.000</td>\n",
       "      <td>0.000</td>\n",
       "      <td>1.000</td>\n",
       "      <td>0.000</td>\n",
       "      <td>0.000</td>\n",
       "      <td>0.000</td>\n",
       "      <td>0.000</td>\n",
       "      <td>0.000</td>\n",
       "      <td>0.000</td>\n",
       "      <td>0.000</td>\n",
       "      <td>0.000</td>\n",
       "      <td>1.000</td>\n",
       "      <td>0.000</td>\n",
       "      <td>0.000</td>\n",
       "      <td>0.000</td>\n",
       "      <td>0.000</td>\n",
       "      <td>0.000</td>\n",
       "      <td>0.000</td>\n",
       "      <td>0.000</td>\n",
       "      <td>0.000</td>\n",
       "      <td>1.000</td>\n",
       "      <td>0.000</td>\n",
       "      <td>0.000</td>\n",
       "      <td>0.000</td>\n",
       "      <td>0.000</td>\n",
       "      <td>0.000</td>\n",
       "      <td>0.000</td>\n",
       "      <td>0.000</td>\n",
       "      <td>0.000</td>\n",
       "      <td>0.000</td>\n",
       "      <td>0.000</td>\n",
       "      <td>0.000</td>\n",
       "      <td>0.000</td>\n",
       "      <td>0.000</td>\n",
       "      <td>0.000</td>\n",
       "      <td>0.000</td>\n",
       "      <td>0.000</td>\n",
       "      <td>0.000</td>\n",
       "      <td>0.000</td>\n",
       "      <td>0.000</td>\n",
       "      <td>0.000</td>\n",
       "      <td>0.000</td>\n",
       "      <td>0.000</td>\n",
       "      <td>0.000</td>\n",
       "      <td>0.000</td>\n",
       "    </tr>\n",
       "    <tr>\n",
       "      <th>4</th>\n",
       "      <td>0.213</td>\n",
       "      <td>0.089</td>\n",
       "      <td>0.235</td>\n",
       "      <td>0.000</td>\n",
       "      <td>1.000</td>\n",
       "      <td>0.000</td>\n",
       "      <td>0.000</td>\n",
       "      <td>0.000</td>\n",
       "      <td>0.000</td>\n",
       "      <td>0.000</td>\n",
       "      <td>0.000</td>\n",
       "      <td>0.000</td>\n",
       "      <td>0.000</td>\n",
       "      <td>0.000</td>\n",
       "      <td>0.000</td>\n",
       "      <td>0.000</td>\n",
       "      <td>0.000</td>\n",
       "      <td>0.000</td>\n",
       "      <td>0.000</td>\n",
       "      <td>0.000</td>\n",
       "      <td>0.000</td>\n",
       "      <td>0.000</td>\n",
       "      <td>0.000</td>\n",
       "      <td>0.000</td>\n",
       "      <td>0.000</td>\n",
       "      <td>0.000</td>\n",
       "      <td>0.000</td>\n",
       "      <td>0.000</td>\n",
       "      <td>0.000</td>\n",
       "      <td>0.000</td>\n",
       "      <td>0.000</td>\n",
       "      <td>0.000</td>\n",
       "      <td>0.000</td>\n",
       "      <td>0.000</td>\n",
       "      <td>0.000</td>\n",
       "      <td>0.000</td>\n",
       "      <td>0.000</td>\n",
       "      <td>0.000</td>\n",
       "      <td>0.000</td>\n",
       "      <td>0.000</td>\n",
       "      <td>0.000</td>\n",
       "      <td>0.000</td>\n",
       "      <td>0.000</td>\n",
       "      <td>1.000</td>\n",
       "      <td>0.000</td>\n",
       "      <td>0.000</td>\n",
       "      <td>0.000</td>\n",
       "      <td>0.000</td>\n",
       "      <td>0.000</td>\n",
       "      <td>0.000</td>\n",
       "      <td>1.000</td>\n",
       "      <td>0.000</td>\n",
       "      <td>0.000</td>\n",
       "      <td>0.000</td>\n",
       "      <td>0.000</td>\n",
       "      <td>0.000</td>\n",
       "      <td>0.000</td>\n",
       "      <td>0.000</td>\n",
       "      <td>0.000</td>\n",
       "      <td>0.000</td>\n",
       "      <td>0.000</td>\n",
       "      <td>0.000</td>\n",
       "      <td>0.000</td>\n",
       "      <td>0.000</td>\n",
       "      <td>0.000</td>\n",
       "      <td>0.000</td>\n",
       "      <td>0.000</td>\n",
       "      <td>0.000</td>\n",
       "      <td>0.000</td>\n",
       "      <td>0.000</td>\n",
       "      <td>1.000</td>\n",
       "      <td>0.000</td>\n",
       "      <td>0.000</td>\n",
       "      <td>0.000</td>\n",
       "      <td>0.000</td>\n",
       "      <td>1.000</td>\n",
       "      <td>0.000</td>\n",
       "      <td>0.000</td>\n",
       "      <td>0.000</td>\n",
       "      <td>0.000</td>\n",
       "      <td>0.000</td>\n",
       "      <td>0.000</td>\n",
       "      <td>0.000</td>\n",
       "      <td>0.000</td>\n",
       "      <td>0.000</td>\n",
       "      <td>0.000</td>\n",
       "      <td>0.000</td>\n",
       "      <td>0.000</td>\n",
       "      <td>0.000</td>\n",
       "      <td>0.000</td>\n",
       "      <td>0.000</td>\n",
       "      <td>0.000</td>\n",
       "      <td>0.000</td>\n",
       "      <td>0.000</td>\n",
       "      <td>0.000</td>\n",
       "      <td>0.000</td>\n",
       "      <td>0.000</td>\n",
       "      <td>0.000</td>\n",
       "      <td>0.000</td>\n",
       "      <td>0.000</td>\n",
       "      <td>0.000</td>\n",
       "      <td>0.000</td>\n",
       "      <td>0.000</td>\n",
       "      <td>0.000</td>\n",
       "    </tr>\n",
       "  </tbody>\n",
       "</table>\n",
       "</div>\n",
       "      <button class=\"colab-df-convert\" onclick=\"convertToInteractive('df-07b77241-649b-41ae-b835-dc1dd369370a')\"\n",
       "              title=\"Convert this dataframe to an interactive table.\"\n",
       "              style=\"display:none;\">\n",
       "        \n",
       "  <svg xmlns=\"http://www.w3.org/2000/svg\" height=\"24px\"viewBox=\"0 0 24 24\"\n",
       "       width=\"24px\">\n",
       "    <path d=\"M0 0h24v24H0V0z\" fill=\"none\"/>\n",
       "    <path d=\"M18.56 5.44l.94 2.06.94-2.06 2.06-.94-2.06-.94-.94-2.06-.94 2.06-2.06.94zm-11 1L8.5 8.5l.94-2.06 2.06-.94-2.06-.94L8.5 2.5l-.94 2.06-2.06.94zm10 10l.94 2.06.94-2.06 2.06-.94-2.06-.94-.94-2.06-.94 2.06-2.06.94z\"/><path d=\"M17.41 7.96l-1.37-1.37c-.4-.4-.92-.59-1.43-.59-.52 0-1.04.2-1.43.59L10.3 9.45l-7.72 7.72c-.78.78-.78 2.05 0 2.83L4 21.41c.39.39.9.59 1.41.59.51 0 1.02-.2 1.41-.59l7.78-7.78 2.81-2.81c.8-.78.8-2.07 0-2.86zM5.41 20L4 18.59l7.72-7.72 1.47 1.35L5.41 20z\"/>\n",
       "  </svg>\n",
       "      </button>\n",
       "      \n",
       "  <style>\n",
       "    .colab-df-container {\n",
       "      display:flex;\n",
       "      flex-wrap:wrap;\n",
       "      gap: 12px;\n",
       "    }\n",
       "\n",
       "    .colab-df-convert {\n",
       "      background-color: #E8F0FE;\n",
       "      border: none;\n",
       "      border-radius: 50%;\n",
       "      cursor: pointer;\n",
       "      display: none;\n",
       "      fill: #1967D2;\n",
       "      height: 32px;\n",
       "      padding: 0 0 0 0;\n",
       "      width: 32px;\n",
       "    }\n",
       "\n",
       "    .colab-df-convert:hover {\n",
       "      background-color: #E2EBFA;\n",
       "      box-shadow: 0px 1px 2px rgba(60, 64, 67, 0.3), 0px 1px 3px 1px rgba(60, 64, 67, 0.15);\n",
       "      fill: #174EA6;\n",
       "    }\n",
       "\n",
       "    [theme=dark] .colab-df-convert {\n",
       "      background-color: #3B4455;\n",
       "      fill: #D2E3FC;\n",
       "    }\n",
       "\n",
       "    [theme=dark] .colab-df-convert:hover {\n",
       "      background-color: #434B5C;\n",
       "      box-shadow: 0px 1px 3px 1px rgba(0, 0, 0, 0.15);\n",
       "      filter: drop-shadow(0px 1px 2px rgba(0, 0, 0, 0.3));\n",
       "      fill: #FFFFFF;\n",
       "    }\n",
       "  </style>\n",
       "\n",
       "      <script>\n",
       "        const buttonEl =\n",
       "          document.querySelector('#df-07b77241-649b-41ae-b835-dc1dd369370a button.colab-df-convert');\n",
       "        buttonEl.style.display =\n",
       "          google.colab.kernel.accessAllowed ? 'block' : 'none';\n",
       "\n",
       "        async function convertToInteractive(key) {\n",
       "          const element = document.querySelector('#df-07b77241-649b-41ae-b835-dc1dd369370a');\n",
       "          const dataTable =\n",
       "            await google.colab.kernel.invokeFunction('convertToInteractive',\n",
       "                                                     [key], {});\n",
       "          if (!dataTable) return;\n",
       "\n",
       "          const docLinkHtml = 'Like what you see? Visit the ' +\n",
       "            '<a target=\"_blank\" href=https://colab.research.google.com/notebooks/data_table.ipynb>data table notebook</a>'\n",
       "            + ' to learn more about interactive tables.';\n",
       "          element.innerHTML = '';\n",
       "          dataTable['output_type'] = 'display_data';\n",
       "          await google.colab.output.renderOutput(dataTable, element);\n",
       "          const docLink = document.createElement('div');\n",
       "          docLink.innerHTML = docLinkHtml;\n",
       "          element.appendChild(docLink);\n",
       "        }\n",
       "      </script>\n",
       "    </div>\n",
       "  </div>\n",
       "  "
      ],
      "text/plain": [
       "   m (kg)  At1 (mm)  ec (cm3)  empty    m1   m1g    n1   n1g    n2   bmw  \\\n",
       "0   0.212     0.094     0.188  0.000 1.000 0.000 0.000 0.000 0.000 0.000   \n",
       "1   0.218     0.091     0.234  0.000 1.000 0.000 0.000 0.000 0.000 0.000   \n",
       "2   0.354     0.099     0.252  0.000 1.000 0.000 0.000 0.000 0.000 0.000   \n",
       "3   0.267     0.091     0.588  0.000 1.000 0.000 0.000 0.000 0.000 0.000   \n",
       "4   0.213     0.089     0.235  0.000 1.000 0.000 0.000 0.000 0.000 0.000   \n",
       "\n",
       "   bmw group  daimler  daimler ag   fca  fca italy spa  fca-tesla  \\\n",
       "0      0.000    0.000       0.000 0.000          0.000      0.000   \n",
       "1      0.000    0.000       1.000 0.000          0.000      0.000   \n",
       "2      0.000    0.000       1.000 0.000          0.000      0.000   \n",
       "3      0.000    0.000       0.000 0.000          0.000      0.000   \n",
       "4      0.000    0.000       0.000 0.000          0.000      0.000   \n",
       "\n",
       "   fiat group automobiles spa  ford pool  ford-volvo  ford-werke gmbh  \\\n",
       "0                       0.000      0.000       0.000            0.000   \n",
       "1                       0.000      0.000       0.000            0.000   \n",
       "2                       0.000      0.000       0.000            0.000   \n",
       "3                       0.000      0.000       0.000            0.000   \n",
       "4                       0.000      0.000       0.000            0.000   \n",
       "\n",
       "   general motors    gm  honda  honda motor europe ltd  hyundai  jlt pool  \\\n",
       "0           0.000 0.000  0.000                   0.000    0.000     0.000   \n",
       "1           0.000 0.000  0.000                   0.000    0.000     0.000   \n",
       "2           0.000 0.000  0.000                   0.000    0.000     0.000   \n",
       "3           0.000 0.000  0.000                   0.000    0.000     0.000   \n",
       "4           0.000 0.000  0.000                   0.000    0.000     0.000   \n",
       "\n",
       "    kia  mercedes-benz  mg-saic  mitsubishi motors  mitsubishi pool    na  \\\n",
       "0 1.000          0.000    0.000              0.000            0.000 0.000   \n",
       "1 0.000          0.000    0.000              0.000            0.000 0.000   \n",
       "2 0.000          0.000    0.000              0.000            0.000 0.000   \n",
       "3 0.000          0.000    0.000              0.000            0.000 0.000   \n",
       "4 0.000          0.000    0.000              0.000            0.000 0.000   \n",
       "\n",
       "   pool renault  psa-opel  renault  renault-nissan-mitsubishi  suzuki  \\\n",
       "0         0.000     0.000    0.000                      0.000   0.000   \n",
       "1         0.000     0.000    0.000                      0.000   0.000   \n",
       "2         0.000     0.000    0.000                      0.000   0.000   \n",
       "3         0.000     0.000    0.000                      0.000   0.000   \n",
       "4         0.000     0.000    0.000                      0.000   0.000   \n",
       "\n",
       "   suzuki pool  tata motors jaguar land rover  \\\n",
       "0        0.000                          0.000   \n",
       "1        0.000                          0.000   \n",
       "2        0.000                          0.000   \n",
       "3        0.000                          0.000   \n",
       "4        0.000                          0.000   \n",
       "\n",
       "   tata motors ltd, jaguar cars ltd , land rover  \\\n",
       "0                                          0.000   \n",
       "1                                          0.000   \n",
       "2                                          0.000   \n",
       "3                                          1.000   \n",
       "4                                          0.000   \n",
       "\n",
       "   tata motors ltd, jaguar cars ltd, land rover   tjl  toyota -daihatsu group  \\\n",
       "0                                         0.000 0.000                   0.000   \n",
       "1                                         0.000 0.000                   0.000   \n",
       "2                                         0.000 0.000                   0.000   \n",
       "3                                         0.000 0.000                   0.000   \n",
       "4                                         0.000 0.000                   0.000   \n",
       "\n",
       "   toyota-dahaitsu group  toyota-daihatsu group  toyota-mazda  vw group pc  \\\n",
       "0                  0.000                  0.000         0.000        0.000   \n",
       "1                  0.000                  0.000         0.000        0.000   \n",
       "2                  0.000                  0.000         0.000        0.000   \n",
       "3                  0.000                  0.000         0.000        0.000   \n",
       "4                  1.000                  0.000         0.000        0.000   \n",
       "\n",
       "   vw-saic  biodiesel   cng  diesel  diesel-electric   e85  electric  \\\n",
       "0    0.000      0.000 0.000   1.000            0.000 0.000     0.000   \n",
       "1    0.000      0.000 0.000   0.000            0.000 0.000     0.000   \n",
       "2    0.000      0.000 0.000   1.000            0.000 0.000     0.000   \n",
       "3    0.000      0.000 0.000   0.000            0.000 0.000     0.000   \n",
       "4    0.000      0.000 0.000   1.000            0.000 0.000     0.000   \n",
       "\n",
       "   hybrid-petrol-e  hydrogen   lpg    ng  ng-biomethane  ng_biomethane  other  \\\n",
       "0            0.000     0.000 0.000 0.000          0.000          0.000  0.000   \n",
       "1            0.000     0.000 0.000 0.000          0.000          0.000  0.000   \n",
       "2            0.000     0.000 0.000 0.000          0.000          0.000  0.000   \n",
       "3            0.000     0.000 0.000 0.000          0.000          0.000  0.000   \n",
       "4            0.000     0.000 0.000 0.000          0.000          0.000  0.000   \n",
       "\n",
       "   petrol  petrol phev  petrol-electric  petrol-gas     2     b     e     f  \\\n",
       "0   0.000        0.000            0.000       0.000 0.000 0.000 0.000 0.000   \n",
       "1   1.000        0.000            0.000       0.000 0.000 0.000 0.000 0.000   \n",
       "2   0.000        0.000            0.000       0.000 0.000 0.000 0.000 0.000   \n",
       "3   1.000        0.000            0.000       0.000 0.000 0.000 0.000 0.000   \n",
       "4   0.000        0.000            0.000       0.000 0.000 0.000 0.000 0.000   \n",
       "\n",
       "      h     m     n    na     p    at    be    bg    cy    cz    de    dk  \\\n",
       "0 0.000 1.000 0.000 0.000 0.000 0.000 0.000 0.000 0.000 0.000 0.000 0.000   \n",
       "1 0.000 1.000 0.000 0.000 0.000 0.000 0.000 0.000 0.000 0.000 1.000 0.000   \n",
       "2 0.000 1.000 0.000 0.000 0.000 1.000 0.000 0.000 0.000 0.000 0.000 0.000   \n",
       "3 0.000 1.000 0.000 0.000 0.000 0.000 0.000 0.000 0.000 0.000 1.000 0.000   \n",
       "4 0.000 1.000 0.000 0.000 0.000 0.000 1.000 0.000 0.000 0.000 0.000 0.000   \n",
       "\n",
       "     ee    es    fi    fr    gb    gr    hr    hu    ie    is    it    lt  \\\n",
       "0 1.000 0.000 0.000 0.000 0.000 0.000 0.000 0.000 0.000 0.000 0.000 0.000   \n",
       "1 0.000 0.000 0.000 0.000 0.000 0.000 0.000 0.000 0.000 0.000 0.000 0.000   \n",
       "2 0.000 0.000 0.000 0.000 0.000 0.000 0.000 0.000 0.000 0.000 0.000 0.000   \n",
       "3 0.000 0.000 0.000 0.000 0.000 0.000 0.000 0.000 0.000 0.000 0.000 0.000   \n",
       "4 0.000 0.000 0.000 0.000 0.000 0.000 0.000 0.000 0.000 0.000 0.000 0.000   \n",
       "\n",
       "     lu    lv    mt    nl    no    pl    pt    ro    se    si    sk  \n",
       "0 0.000 0.000 0.000 0.000 0.000 0.000 0.000 0.000 0.000 0.000 0.000  \n",
       "1 0.000 0.000 0.000 0.000 0.000 0.000 0.000 0.000 0.000 0.000 0.000  \n",
       "2 0.000 0.000 0.000 0.000 0.000 0.000 0.000 0.000 0.000 0.000 0.000  \n",
       "3 0.000 0.000 0.000 0.000 0.000 0.000 0.000 0.000 0.000 0.000 0.000  \n",
       "4 0.000 0.000 0.000 0.000 0.000 0.000 0.000 0.000 0.000 0.000 0.000  "
      ]
     },
     "execution_count": 89,
     "metadata": {},
     "output_type": "execute_result"
    }
   ],
   "source": [
    "x_train.head()"
   ]
  },
  {
   "cell_type": "markdown",
   "metadata": {
    "id": "ErQNs3WMtzSb"
   },
   "source": [
    "## Modeling"
   ]
  },
  {
   "cell_type": "code",
   "execution_count": 21,
   "metadata": {
    "executionInfo": {
     "elapsed": 549,
     "status": "ok",
     "timestamp": 1677492880862,
     "user": {
      "displayName": "gyungyoonpark",
      "userId": "16303404270082910683"
     },
     "user_tz": -120
    },
    "id": "5KwUz2EIhNOk"
   },
   "outputs": [],
   "source": [
    "from sklearn.linear_model import LinearRegression, Lasso, Ridge\n",
    "from sklearn.metrics import r2_score, mean_squared_error, mean_absolute_error\n",
    "from sklearn.model_selection import cross_val_score, GridSearchCV\n",
    "from sklearn.ensemble import RandomForestRegressor\n",
    "from statsmodels.stats.outliers_influence import variance_inflation_factor"
   ]
  },
  {
   "cell_type": "markdown",
   "metadata": {
    "id": "VsoW-RSCmerE"
   },
   "source": [
    "### Linear Regression (without cross validation)"
   ]
  },
  {
   "cell_type": "markdown",
   "metadata": {
    "id": "bdA6IHSo6IMM"
   },
   "source": [
    "When we conduct a single linear regression, the result is as follows. "
   ]
  },
  {
   "cell_type": "code",
   "execution_count": 46,
   "metadata": {
    "colab": {
     "base_uri": "https://localhost:8080/"
    },
    "executionInfo": {
     "elapsed": 4672,
     "status": "ok",
     "timestamp": 1677503369169,
     "user": {
      "displayName": "gyungyoonpark",
      "userId": "16303404270082910683"
     },
     "user_tz": -120
    },
    "id": "vTT00cPCmeu8",
    "outputId": "5ab412f4-2074-431e-bf81-a169cde4fb46"
   },
   "outputs": [
    {
     "name": "stdout",
     "output_type": "stream",
     "text": [
      "Linear Regression, R2 : 0.7712\n",
      "Linear Regression, RMSE : 18.5429\n"
     ]
    }
   ],
   "source": [
    "lr = LinearRegression()\n",
    "\n",
    "lr.fit(x_train, y_train)\n",
    "\n",
    "y_pred = lr.predict(x_valid)\n",
    "\n",
    "mse = mean_squared_error(y_valid , y_pred)\n",
    "rmse = np.sqrt(mse)\n",
    "\n",
    "print('Linear Regression, R2 : {:.4f}'.format(r2_score(y_valid, y_pred)))\n",
    "print('Linear Regression, RMSE : {:.4f}'.format(rmse))\n"
   ]
  },
  {
   "cell_type": "markdown",
   "metadata": {
    "id": "2PG_rrGmKiCo"
   },
   "source": [
    "#### Checking multi colinearity"
   ]
  },
  {
   "cell_type": "markdown",
   "metadata": {
    "id": "6j85DgF1M13k"
   },
   "source": [
    "##### 1. VIF method from statsmodel"
   ]
  },
  {
   "cell_type": "code",
   "execution_count": null,
   "metadata": {
    "colab": {
     "base_uri": "https://localhost:8080/",
     "height": 143
    },
    "executionInfo": {
     "elapsed": 544,
     "status": "ok",
     "timestamp": 1677446065558,
     "user": {
      "displayName": "gyungyoonpark",
      "userId": "16303404270082910683"
     },
     "user_tz": -120
    },
    "id": "NIdgyK1SKl4Q",
    "outputId": "08411334-0f12-459c-b4a0-ead47fa8b98c"
   },
   "outputs": [
    {
     "data": {
      "text/html": [
       "\n",
       "  <div id=\"df-e4773144-4f12-41bf-a355-e43722ff6564\">\n",
       "    <div class=\"colab-df-container\">\n",
       "      <div>\n",
       "<style scoped>\n",
       "    .dataframe tbody tr th:only-of-type {\n",
       "        vertical-align: middle;\n",
       "    }\n",
       "\n",
       "    .dataframe tbody tr th {\n",
       "        vertical-align: top;\n",
       "    }\n",
       "\n",
       "    .dataframe thead th {\n",
       "        text-align: right;\n",
       "    }\n",
       "</style>\n",
       "<table border=\"1\" class=\"dataframe\">\n",
       "  <thead>\n",
       "    <tr style=\"text-align: right;\">\n",
       "      <th></th>\n",
       "      <th>feature</th>\n",
       "      <th>VIF</th>\n",
       "    </tr>\n",
       "  </thead>\n",
       "  <tbody>\n",
       "    <tr>\n",
       "      <th>0</th>\n",
       "      <td>m (kg)</td>\n",
       "      <td>41.0967</td>\n",
       "    </tr>\n",
       "    <tr>\n",
       "      <th>1</th>\n",
       "      <td>At1 (mm)</td>\n",
       "      <td>23.7489</td>\n",
       "    </tr>\n",
       "    <tr>\n",
       "      <th>2</th>\n",
       "      <td>ec (cm3)</td>\n",
       "      <td>14.6800</td>\n",
       "    </tr>\n",
       "  </tbody>\n",
       "</table>\n",
       "</div>\n",
       "      <button class=\"colab-df-convert\" onclick=\"convertToInteractive('df-e4773144-4f12-41bf-a355-e43722ff6564')\"\n",
       "              title=\"Convert this dataframe to an interactive table.\"\n",
       "              style=\"display:none;\">\n",
       "        \n",
       "  <svg xmlns=\"http://www.w3.org/2000/svg\" height=\"24px\"viewBox=\"0 0 24 24\"\n",
       "       width=\"24px\">\n",
       "    <path d=\"M0 0h24v24H0V0z\" fill=\"none\"/>\n",
       "    <path d=\"M18.56 5.44l.94 2.06.94-2.06 2.06-.94-2.06-.94-.94-2.06-.94 2.06-2.06.94zm-11 1L8.5 8.5l.94-2.06 2.06-.94-2.06-.94L8.5 2.5l-.94 2.06-2.06.94zm10 10l.94 2.06.94-2.06 2.06-.94-2.06-.94-.94-2.06-.94 2.06-2.06.94z\"/><path d=\"M17.41 7.96l-1.37-1.37c-.4-.4-.92-.59-1.43-.59-.52 0-1.04.2-1.43.59L10.3 9.45l-7.72 7.72c-.78.78-.78 2.05 0 2.83L4 21.41c.39.39.9.59 1.41.59.51 0 1.02-.2 1.41-.59l7.78-7.78 2.81-2.81c.8-.78.8-2.07 0-2.86zM5.41 20L4 18.59l7.72-7.72 1.47 1.35L5.41 20z\"/>\n",
       "  </svg>\n",
       "      </button>\n",
       "      \n",
       "  <style>\n",
       "    .colab-df-container {\n",
       "      display:flex;\n",
       "      flex-wrap:wrap;\n",
       "      gap: 12px;\n",
       "    }\n",
       "\n",
       "    .colab-df-convert {\n",
       "      background-color: #E8F0FE;\n",
       "      border: none;\n",
       "      border-radius: 50%;\n",
       "      cursor: pointer;\n",
       "      display: none;\n",
       "      fill: #1967D2;\n",
       "      height: 32px;\n",
       "      padding: 0 0 0 0;\n",
       "      width: 32px;\n",
       "    }\n",
       "\n",
       "    .colab-df-convert:hover {\n",
       "      background-color: #E2EBFA;\n",
       "      box-shadow: 0px 1px 2px rgba(60, 64, 67, 0.3), 0px 1px 3px 1px rgba(60, 64, 67, 0.15);\n",
       "      fill: #174EA6;\n",
       "    }\n",
       "\n",
       "    [theme=dark] .colab-df-convert {\n",
       "      background-color: #3B4455;\n",
       "      fill: #D2E3FC;\n",
       "    }\n",
       "\n",
       "    [theme=dark] .colab-df-convert:hover {\n",
       "      background-color: #434B5C;\n",
       "      box-shadow: 0px 1px 3px 1px rgba(0, 0, 0, 0.15);\n",
       "      filter: drop-shadow(0px 1px 2px rgba(0, 0, 0, 0.3));\n",
       "      fill: #FFFFFF;\n",
       "    }\n",
       "  </style>\n",
       "\n",
       "      <script>\n",
       "        const buttonEl =\n",
       "          document.querySelector('#df-e4773144-4f12-41bf-a355-e43722ff6564 button.colab-df-convert');\n",
       "        buttonEl.style.display =\n",
       "          google.colab.kernel.accessAllowed ? 'block' : 'none';\n",
       "\n",
       "        async function convertToInteractive(key) {\n",
       "          const element = document.querySelector('#df-e4773144-4f12-41bf-a355-e43722ff6564');\n",
       "          const dataTable =\n",
       "            await google.colab.kernel.invokeFunction('convertToInteractive',\n",
       "                                                     [key], {});\n",
       "          if (!dataTable) return;\n",
       "\n",
       "          const docLinkHtml = 'Like what you see? Visit the ' +\n",
       "            '<a target=\"_blank\" href=https://colab.research.google.com/notebooks/data_table.ipynb>data table notebook</a>'\n",
       "            + ' to learn more about interactive tables.';\n",
       "          element.innerHTML = '';\n",
       "          dataTable['output_type'] = 'display_data';\n",
       "          await google.colab.output.renderOutput(dataTable, element);\n",
       "          const docLink = document.createElement('div');\n",
       "          docLink.innerHTML = docLinkHtml;\n",
       "          element.appendChild(docLink);\n",
       "        }\n",
       "      </script>\n",
       "    </div>\n",
       "  </div>\n",
       "  "
      ],
      "text/plain": [
       "    feature     VIF\n",
       "0    m (kg) 41.0967\n",
       "1  At1 (mm) 23.7489\n",
       "2  ec (cm3) 14.6800"
      ]
     },
     "execution_count": 61,
     "metadata": {},
     "output_type": "execute_result"
    }
   ],
   "source": [
    "num_data = target_df[selected_numerical_columns]\n",
    "\n",
    "vif_data = pd.DataFrame()\n",
    "vif_data[\"feature\"] = num_data.columns\n",
    "vif_data[\"VIF\"] = [variance_inflation_factor(num_data.values, i) for i in range(len(num_data.columns))]\n",
    "vif_data.sort_values(by='VIF', ascending=False)"
   ]
  },
  {
   "cell_type": "markdown",
   "metadata": {
    "id": "niLx0RB8Kl9I"
   },
   "source": [
    "VIF values are acceptable"
   ]
  },
  {
   "cell_type": "markdown",
   "metadata": {
    "id": "aLY4ZX8AKmCT"
   },
   "source": [
    "##### 2. checking correlations between columns"
   ]
  },
  {
   "cell_type": "code",
   "execution_count": null,
   "metadata": {
    "colab": {
     "base_uri": "https://localhost:8080/",
     "height": 143
    },
    "executionInfo": {
     "elapsed": 7,
     "status": "ok",
     "timestamp": 1677446070658,
     "user": {
      "displayName": "gyungyoonpark",
      "userId": "16303404270082910683"
     },
     "user_tz": -120
    },
    "id": "7JjCNm2QKmH4",
    "outputId": "2febaf5b-67fa-4e74-b10f-021eda14116d"
   },
   "outputs": [
    {
     "data": {
      "text/html": [
       "\n",
       "  <div id=\"df-9d874f8c-fe5d-492e-a364-b62fde1ea319\">\n",
       "    <div class=\"colab-df-container\">\n",
       "      <div>\n",
       "<style scoped>\n",
       "    .dataframe tbody tr th:only-of-type {\n",
       "        vertical-align: middle;\n",
       "    }\n",
       "\n",
       "    .dataframe tbody tr th {\n",
       "        vertical-align: top;\n",
       "    }\n",
       "\n",
       "    .dataframe thead th {\n",
       "        text-align: right;\n",
       "    }\n",
       "</style>\n",
       "<table border=\"1\" class=\"dataframe\">\n",
       "  <thead>\n",
       "    <tr style=\"text-align: right;\">\n",
       "      <th></th>\n",
       "      <th>m (kg)</th>\n",
       "      <th>At1 (mm)</th>\n",
       "      <th>ec (cm3)</th>\n",
       "    </tr>\n",
       "  </thead>\n",
       "  <tbody>\n",
       "    <tr>\n",
       "      <th>m (kg)</th>\n",
       "      <td>1.0000</td>\n",
       "      <td>0.2631</td>\n",
       "      <td>0.6578</td>\n",
       "    </tr>\n",
       "    <tr>\n",
       "      <th>At1 (mm)</th>\n",
       "      <td>0.2631</td>\n",
       "      <td>1.0000</td>\n",
       "      <td>0.1521</td>\n",
       "    </tr>\n",
       "    <tr>\n",
       "      <th>ec (cm3)</th>\n",
       "      <td>0.6578</td>\n",
       "      <td>0.1521</td>\n",
       "      <td>1.0000</td>\n",
       "    </tr>\n",
       "  </tbody>\n",
       "</table>\n",
       "</div>\n",
       "      <button class=\"colab-df-convert\" onclick=\"convertToInteractive('df-9d874f8c-fe5d-492e-a364-b62fde1ea319')\"\n",
       "              title=\"Convert this dataframe to an interactive table.\"\n",
       "              style=\"display:none;\">\n",
       "        \n",
       "  <svg xmlns=\"http://www.w3.org/2000/svg\" height=\"24px\"viewBox=\"0 0 24 24\"\n",
       "       width=\"24px\">\n",
       "    <path d=\"M0 0h24v24H0V0z\" fill=\"none\"/>\n",
       "    <path d=\"M18.56 5.44l.94 2.06.94-2.06 2.06-.94-2.06-.94-.94-2.06-.94 2.06-2.06.94zm-11 1L8.5 8.5l.94-2.06 2.06-.94-2.06-.94L8.5 2.5l-.94 2.06-2.06.94zm10 10l.94 2.06.94-2.06 2.06-.94-2.06-.94-.94-2.06-.94 2.06-2.06.94z\"/><path d=\"M17.41 7.96l-1.37-1.37c-.4-.4-.92-.59-1.43-.59-.52 0-1.04.2-1.43.59L10.3 9.45l-7.72 7.72c-.78.78-.78 2.05 0 2.83L4 21.41c.39.39.9.59 1.41.59.51 0 1.02-.2 1.41-.59l7.78-7.78 2.81-2.81c.8-.78.8-2.07 0-2.86zM5.41 20L4 18.59l7.72-7.72 1.47 1.35L5.41 20z\"/>\n",
       "  </svg>\n",
       "      </button>\n",
       "      \n",
       "  <style>\n",
       "    .colab-df-container {\n",
       "      display:flex;\n",
       "      flex-wrap:wrap;\n",
       "      gap: 12px;\n",
       "    }\n",
       "\n",
       "    .colab-df-convert {\n",
       "      background-color: #E8F0FE;\n",
       "      border: none;\n",
       "      border-radius: 50%;\n",
       "      cursor: pointer;\n",
       "      display: none;\n",
       "      fill: #1967D2;\n",
       "      height: 32px;\n",
       "      padding: 0 0 0 0;\n",
       "      width: 32px;\n",
       "    }\n",
       "\n",
       "    .colab-df-convert:hover {\n",
       "      background-color: #E2EBFA;\n",
       "      box-shadow: 0px 1px 2px rgba(60, 64, 67, 0.3), 0px 1px 3px 1px rgba(60, 64, 67, 0.15);\n",
       "      fill: #174EA6;\n",
       "    }\n",
       "\n",
       "    [theme=dark] .colab-df-convert {\n",
       "      background-color: #3B4455;\n",
       "      fill: #D2E3FC;\n",
       "    }\n",
       "\n",
       "    [theme=dark] .colab-df-convert:hover {\n",
       "      background-color: #434B5C;\n",
       "      box-shadow: 0px 1px 3px 1px rgba(0, 0, 0, 0.15);\n",
       "      filter: drop-shadow(0px 1px 2px rgba(0, 0, 0, 0.3));\n",
       "      fill: #FFFFFF;\n",
       "    }\n",
       "  </style>\n",
       "\n",
       "      <script>\n",
       "        const buttonEl =\n",
       "          document.querySelector('#df-9d874f8c-fe5d-492e-a364-b62fde1ea319 button.colab-df-convert');\n",
       "        buttonEl.style.display =\n",
       "          google.colab.kernel.accessAllowed ? 'block' : 'none';\n",
       "\n",
       "        async function convertToInteractive(key) {\n",
       "          const element = document.querySelector('#df-9d874f8c-fe5d-492e-a364-b62fde1ea319');\n",
       "          const dataTable =\n",
       "            await google.colab.kernel.invokeFunction('convertToInteractive',\n",
       "                                                     [key], {});\n",
       "          if (!dataTable) return;\n",
       "\n",
       "          const docLinkHtml = 'Like what you see? Visit the ' +\n",
       "            '<a target=\"_blank\" href=https://colab.research.google.com/notebooks/data_table.ipynb>data table notebook</a>'\n",
       "            + ' to learn more about interactive tables.';\n",
       "          element.innerHTML = '';\n",
       "          dataTable['output_type'] = 'display_data';\n",
       "          await google.colab.output.renderOutput(dataTable, element);\n",
       "          const docLink = document.createElement('div');\n",
       "          docLink.innerHTML = docLinkHtml;\n",
       "          element.appendChild(docLink);\n",
       "        }\n",
       "      </script>\n",
       "    </div>\n",
       "  </div>\n",
       "  "
      ],
      "text/plain": [
       "          m (kg)  At1 (mm)  ec (cm3)\n",
       "m (kg)    1.0000    0.2631    0.6578\n",
       "At1 (mm)  0.2631    1.0000    0.1521\n",
       "ec (cm3)  0.6578    0.1521    1.0000"
      ]
     },
     "execution_count": 63,
     "metadata": {},
     "output_type": "execute_result"
    }
   ],
   "source": [
    "target_df[selected_numerical_columns].corr()"
   ]
  },
  {
   "cell_type": "markdown",
   "metadata": {
    "id": "3XOYiL5WKiLc"
   },
   "source": [
    "ec and m columns have high corr but for the sake of analysis, we keep the columns"
   ]
  },
  {
   "cell_type": "markdown",
   "metadata": {
    "id": "IFOhdl2qhBbG"
   },
   "source": [
    "### Linear Regression "
   ]
  },
  {
   "cell_type": "markdown",
   "metadata": {
    "id": "LbHg4Mfw7Y_m"
   },
   "source": [
    "However, when we do cross validation with normal linear regression, the results become very unstable."
   ]
  },
  {
   "cell_type": "code",
   "execution_count": 47,
   "metadata": {
    "colab": {
     "base_uri": "https://localhost:8080/"
    },
    "executionInfo": {
     "elapsed": 17078,
     "status": "ok",
     "timestamp": 1677503438058,
     "user": {
      "displayName": "gyungyoonpark",
      "userId": "16303404270082910683"
     },
     "user_tz": -120
    },
    "id": "b_5DRcmq5zgh",
    "outputId": "485888f7-8251-46c1-a6f8-c4a7dde6c8e3"
   },
   "outputs": [
    {
     "data": {
      "text/plain": [
       "array([-2.31953211e+14,  7.72501211e-01,  7.69659269e-01, -1.98744279e+17,\n",
       "       -4.20704944e+17])"
      ]
     },
     "execution_count": 47,
     "metadata": {},
     "output_type": "execute_result"
    }
   ],
   "source": [
    "lr = LinearRegression()\n",
    "\n",
    "scores = cross_val_score(lr, x_train, y_train, cv=5, scoring='r2')\n",
    "scores"
   ]
  },
  {
   "cell_type": "markdown",
   "metadata": {
    "id": "72V9hMZs71rI"
   },
   "source": [
    "This overfitting can be partially resolved with regularization methods."
   ]
  },
  {
   "cell_type": "markdown",
   "metadata": {
    "id": "8jEzVJiOmeyz"
   },
   "source": [
    "### Lasso Linear Regression"
   ]
  },
  {
   "cell_type": "markdown",
   "metadata": {
    "id": "Gr-pdZDU9gsJ"
   },
   "source": [
    "The problem is somewhat solved with Lasso Regression"
   ]
  },
  {
   "cell_type": "code",
   "execution_count": 43,
   "metadata": {
    "colab": {
     "base_uri": "https://localhost:8080/"
    },
    "executionInfo": {
     "elapsed": 6889,
     "status": "ok",
     "timestamp": 1677503302407,
     "user": {
      "displayName": "gyungyoonpark",
      "userId": "16303404270082910683"
     },
     "user_tz": -120
    },
    "id": "GC85g-FQ77Wa",
    "outputId": "6e766d8a-4c0d-4530-8225-c61a87b68fa4"
   },
   "outputs": [
    {
     "data": {
      "text/plain": [
       "array([0.43680532, 0.44099168, 0.43720041, 0.4392151 , 0.43532796])"
      ]
     },
     "execution_count": 43,
     "metadata": {},
     "output_type": "execute_result"
    }
   ],
   "source": [
    "lasso_lr = Lasso(random_state=42)\n",
    "\n",
    "scores = cross_val_score(lasso_lr, x_train, y_train, cv=5, scoring='r2')\n",
    "scores"
   ]
  },
  {
   "cell_type": "markdown",
   "metadata": {
    "id": "dNQuEAPG96El"
   },
   "source": [
    "x_valid, y_valid are used to make the final prediction after finding the best hyper parameters with GridSearchCV.\n",
    "\n",
    "But at this stage, we don't do hyperparameter tuning just yet"
   ]
  },
  {
   "cell_type": "markdown",
   "metadata": {
    "id": "nTCO-PWl2LwO"
   },
   "source": [
    "### Ridge Linear Regression"
   ]
  },
  {
   "cell_type": "markdown",
   "metadata": {
    "id": "jyGl-M1n-NK_"
   },
   "source": [
    "Ridge regression greatly improves the r2 score"
   ]
  },
  {
   "cell_type": "code",
   "execution_count": 44,
   "metadata": {
    "colab": {
     "base_uri": "https://localhost:8080/"
    },
    "executionInfo": {
     "elapsed": 6028,
     "status": "ok",
     "timestamp": 1677503317268,
     "user": {
      "displayName": "gyungyoonpark",
      "userId": "16303404270082910683"
     },
     "user_tz": -120
    },
    "id": "DKB-wo4b795k",
    "outputId": "c7994fba-fec3-4957-aa75-f81786315c8d"
   },
   "outputs": [
    {
     "data": {
      "text/plain": [
       "array([0.76452343, 0.77250773, 0.76965904, 0.7718569 , 0.76734422])"
      ]
     },
     "execution_count": 44,
     "metadata": {},
     "output_type": "execute_result"
    }
   ],
   "source": [
    "ridge_lr = Ridge(random_state=42)\n",
    "\n",
    "scores = cross_val_score(ridge_lr, x_train, y_train, cv=5, scoring='r2')\n",
    "scores"
   ]
  },
  {
   "cell_type": "markdown",
   "metadata": {
    "id": "h_F2tefdAku2"
   },
   "source": [
    "x_valid, y_valid are used to make the final prediction after finding the best hyper parameters with GridSearchCV.\n",
    "\n",
    "But at this stage, we don't do hyperparameter tuning just yet"
   ]
  },
  {
   "cell_type": "markdown",
   "metadata": {
    "id": "oyEoXUTw8Lgr"
   },
   "source": [
    "### RandomForest Regressor"
   ]
  },
  {
   "cell_type": "markdown",
   "metadata": {
    "id": "rsUiWtIuAJ32"
   },
   "source": [
    "Randomforest regressor greatly improves r2 score, and other metrics as well. "
   ]
  },
  {
   "cell_type": "code",
   "execution_count": 42,
   "metadata": {
    "colab": {
     "base_uri": "https://localhost:8080/"
    },
    "executionInfo": {
     "elapsed": 989308,
     "status": "ok",
     "timestamp": 1677503153481,
     "user": {
      "displayName": "gyungyoonpark",
      "userId": "16303404270082910683"
     },
     "user_tz": -120
    },
    "id": "quHhZmcLQrfA",
    "outputId": "f89340be-fbcd-425e-deb3-2282e23cfdbe"
   },
   "outputs": [
    {
     "data": {
      "text/plain": [
       "array([0.93892922, 0.94193243, 0.94143147, 0.94222469, 0.93924838])"
      ]
     },
     "execution_count": 42,
     "metadata": {},
     "output_type": "execute_result"
    }
   ],
   "source": [
    "### don't run this cell !!! it takes more than 30 min\n",
    "\n",
    "rf_regr = RandomForestRegressor(n_jobs = -1)\n",
    "\n",
    "scores = cross_val_score(rf_regr, x_train, y_train, cv=5, scoring='r2')\n",
    "scores"
   ]
  },
  {
   "cell_type": "markdown",
   "metadata": {
    "id": "YLW0tGRFQris"
   },
   "source": [
    "Eventhough randomforest regressor performs the best, due to the limit of computing power, we will use MLP regressor to tune the hyper parameters and expand the analysis"
   ]
  },
  {
   "cell_type": "markdown",
   "metadata": {
    "id": "gx4kwHDDAzis"
   },
   "source": [
    "Below, we make a function to create a dataframe that summarizes the results of metrics and models"
   ]
  },
  {
   "cell_type": "code",
   "execution_count": 78,
   "metadata": {
    "executionInfo": {
     "elapsed": 667,
     "status": "ok",
     "timestamp": 1677505610556,
     "user": {
      "displayName": "gyungyoonpark",
      "userId": "16303404270082910683"
     },
     "user_tz": -120
    },
    "id": "uoMIcWGn-VgK"
   },
   "outputs": [],
   "source": [
    "metrics =['r2', 'neg_mean_squared_error', 'neg_root_mean_squared_error', 'neg_mean_absolute_error']\n",
    "\n",
    "def create_cross_val(model, metrics):\n",
    "    \n",
    "    mean_list = []\n",
    "    std_list = []\n",
    "\n",
    "    for metric in metrics:\n",
    "        scores = cross_val_score(model, x_train, y_train, cv=5, scoring=metric)\n",
    "\n",
    "        if scores[0] < 0:\n",
    "            scores = [x * (-1) for x in scores]\n",
    "\n",
    "        mean_list.append(np.mean(scores))\n",
    "        std_list.append(np.std(scores))\n",
    "    \n",
    "    return mean_list, std_list"
   ]
  },
  {
   "cell_type": "code",
   "execution_count": 81,
   "metadata": {
    "executionInfo": {
     "elapsed": 939,
     "status": "ok",
     "timestamp": 1677505659530,
     "user": {
      "displayName": "gyungyoonpark",
      "userId": "16303404270082910683"
     },
     "user_tz": -120
    },
    "id": "pi93pugl-Vkd"
   },
   "outputs": [],
   "source": [
    "mean_result_df = pd.DataFrame()\n",
    "std_result_df = pd.DataFrame()\n",
    "\n",
    "mean_result_df['Metrics'] = ['R2', 'MSE', 'RMSE', 'MAE']\n",
    "std_result_df['Metrics'] = ['R2', 'MSE', 'RMSE', 'MAE']"
   ]
  },
  {
   "cell_type": "code",
   "execution_count": 82,
   "metadata": {
    "executionInfo": {
     "elapsed": 42305,
     "status": "ok",
     "timestamp": 1677505703902,
     "user": {
      "displayName": "gyungyoonpark",
      "userId": "16303404270082910683"
     },
     "user_tz": -120
    },
    "id": "01zf-PsMEp7e"
   },
   "outputs": [],
   "source": [
    "# I created a fuction for each model separately because randomforest took too much time, and kernel kept dying.\n",
    "\n",
    "lasso_lr = Lasso(random_state=42)\n",
    "mean_list, std_list = create_cross_val(lasso_lr, metrics)\n",
    "mean_result_df['Lasso'] = mean_list\n",
    "std_result_df['Lasso'] = std_list\n",
    "\n",
    "\n",
    "ridge_lr = Ridge(random_state=42)\n",
    "mean_list, std_list = create_cross_val(ridge_lr, metrics)\n",
    "mean_result_df['Ridge'] = mean_list\n",
    "std_result_df['Ridge'] = std_list"
   ]
  },
  {
   "cell_type": "code",
   "execution_count": 85,
   "metadata": {
    "executionInfo": {
     "elapsed": 4207779,
     "status": "ok",
     "timestamp": 1677509940704,
     "user": {
      "displayName": "gyungyoonpark",
      "userId": "16303404270082910683"
     },
     "user_tz": -120
    },
    "id": "1fMhNbT2EpiZ"
   },
   "outputs": [],
   "source": [
    "rf_regr = RandomForestRegressor(random_state=42, n_jobs=-1)\n",
    "mean_list, std_list = create_cross_val(rf_regr, metrics)\n",
    "mean_result_df['RF'] = mean_list\n",
    "std_result_df['RF'] = std_list"
   ]
  },
  {
   "cell_type": "code",
   "execution_count": null,
   "metadata": {
    "id": "jGOkZc4oGErV"
   },
   "outputs": [],
   "source": []
  },
  {
   "cell_type": "markdown",
   "metadata": {
    "id": "DkNI8hgnIkfR"
   },
   "source": [
    "This is the mean scores of 3 different models on each metric"
   ]
  },
  {
   "cell_type": "code",
   "execution_count": 86,
   "metadata": {
    "colab": {
     "base_uri": "https://localhost:8080/",
     "height": 175
    },
    "executionInfo": {
     "elapsed": 28,
     "status": "ok",
     "timestamp": 1677509940704,
     "user": {
      "displayName": "gyungyoonpark",
      "userId": "16303404270082910683"
     },
     "user_tz": -120
    },
    "id": "emNbQ-NBGEvS",
    "outputId": "a54efb41-ef77-45e2-961f-0da05eed5f5e"
   },
   "outputs": [
    {
     "data": {
      "text/html": [
       "\n",
       "  <div id=\"df-54f004aa-ef2e-49b4-98ca-719ae248e5b5\">\n",
       "    <div class=\"colab-df-container\">\n",
       "      <div>\n",
       "<style scoped>\n",
       "    .dataframe tbody tr th:only-of-type {\n",
       "        vertical-align: middle;\n",
       "    }\n",
       "\n",
       "    .dataframe tbody tr th {\n",
       "        vertical-align: top;\n",
       "    }\n",
       "\n",
       "    .dataframe thead th {\n",
       "        text-align: right;\n",
       "    }\n",
       "</style>\n",
       "<table border=\"1\" class=\"dataframe\">\n",
       "  <thead>\n",
       "    <tr style=\"text-align: right;\">\n",
       "      <th></th>\n",
       "      <th>Metrics</th>\n",
       "      <th>Lasso</th>\n",
       "      <th>Ridge</th>\n",
       "      <th>RF</th>\n",
       "    </tr>\n",
       "  </thead>\n",
       "  <tbody>\n",
       "    <tr>\n",
       "      <th>0</th>\n",
       "      <td>R2</td>\n",
       "      <td>0.438</td>\n",
       "      <td>0.769</td>\n",
       "      <td>0.941</td>\n",
       "    </tr>\n",
       "    <tr>\n",
       "      <th>1</th>\n",
       "      <td>MSE</td>\n",
       "      <td>841.525</td>\n",
       "      <td>345.571</td>\n",
       "      <td>88.553</td>\n",
       "    </tr>\n",
       "    <tr>\n",
       "      <th>2</th>\n",
       "      <td>RMSE</td>\n",
       "      <td>29.009</td>\n",
       "      <td>18.589</td>\n",
       "      <td>9.410</td>\n",
       "    </tr>\n",
       "    <tr>\n",
       "      <th>3</th>\n",
       "      <td>MAE</td>\n",
       "      <td>21.432</td>\n",
       "      <td>13.074</td>\n",
       "      <td>5.046</td>\n",
       "    </tr>\n",
       "  </tbody>\n",
       "</table>\n",
       "</div>\n",
       "      <button class=\"colab-df-convert\" onclick=\"convertToInteractive('df-54f004aa-ef2e-49b4-98ca-719ae248e5b5')\"\n",
       "              title=\"Convert this dataframe to an interactive table.\"\n",
       "              style=\"display:none;\">\n",
       "        \n",
       "  <svg xmlns=\"http://www.w3.org/2000/svg\" height=\"24px\"viewBox=\"0 0 24 24\"\n",
       "       width=\"24px\">\n",
       "    <path d=\"M0 0h24v24H0V0z\" fill=\"none\"/>\n",
       "    <path d=\"M18.56 5.44l.94 2.06.94-2.06 2.06-.94-2.06-.94-.94-2.06-.94 2.06-2.06.94zm-11 1L8.5 8.5l.94-2.06 2.06-.94-2.06-.94L8.5 2.5l-.94 2.06-2.06.94zm10 10l.94 2.06.94-2.06 2.06-.94-2.06-.94-.94-2.06-.94 2.06-2.06.94z\"/><path d=\"M17.41 7.96l-1.37-1.37c-.4-.4-.92-.59-1.43-.59-.52 0-1.04.2-1.43.59L10.3 9.45l-7.72 7.72c-.78.78-.78 2.05 0 2.83L4 21.41c.39.39.9.59 1.41.59.51 0 1.02-.2 1.41-.59l7.78-7.78 2.81-2.81c.8-.78.8-2.07 0-2.86zM5.41 20L4 18.59l7.72-7.72 1.47 1.35L5.41 20z\"/>\n",
       "  </svg>\n",
       "      </button>\n",
       "      \n",
       "  <style>\n",
       "    .colab-df-container {\n",
       "      display:flex;\n",
       "      flex-wrap:wrap;\n",
       "      gap: 12px;\n",
       "    }\n",
       "\n",
       "    .colab-df-convert {\n",
       "      background-color: #E8F0FE;\n",
       "      border: none;\n",
       "      border-radius: 50%;\n",
       "      cursor: pointer;\n",
       "      display: none;\n",
       "      fill: #1967D2;\n",
       "      height: 32px;\n",
       "      padding: 0 0 0 0;\n",
       "      width: 32px;\n",
       "    }\n",
       "\n",
       "    .colab-df-convert:hover {\n",
       "      background-color: #E2EBFA;\n",
       "      box-shadow: 0px 1px 2px rgba(60, 64, 67, 0.3), 0px 1px 3px 1px rgba(60, 64, 67, 0.15);\n",
       "      fill: #174EA6;\n",
       "    }\n",
       "\n",
       "    [theme=dark] .colab-df-convert {\n",
       "      background-color: #3B4455;\n",
       "      fill: #D2E3FC;\n",
       "    }\n",
       "\n",
       "    [theme=dark] .colab-df-convert:hover {\n",
       "      background-color: #434B5C;\n",
       "      box-shadow: 0px 1px 3px 1px rgba(0, 0, 0, 0.15);\n",
       "      filter: drop-shadow(0px 1px 2px rgba(0, 0, 0, 0.3));\n",
       "      fill: #FFFFFF;\n",
       "    }\n",
       "  </style>\n",
       "\n",
       "      <script>\n",
       "        const buttonEl =\n",
       "          document.querySelector('#df-54f004aa-ef2e-49b4-98ca-719ae248e5b5 button.colab-df-convert');\n",
       "        buttonEl.style.display =\n",
       "          google.colab.kernel.accessAllowed ? 'block' : 'none';\n",
       "\n",
       "        async function convertToInteractive(key) {\n",
       "          const element = document.querySelector('#df-54f004aa-ef2e-49b4-98ca-719ae248e5b5');\n",
       "          const dataTable =\n",
       "            await google.colab.kernel.invokeFunction('convertToInteractive',\n",
       "                                                     [key], {});\n",
       "          if (!dataTable) return;\n",
       "\n",
       "          const docLinkHtml = 'Like what you see? Visit the ' +\n",
       "            '<a target=\"_blank\" href=https://colab.research.google.com/notebooks/data_table.ipynb>data table notebook</a>'\n",
       "            + ' to learn more about interactive tables.';\n",
       "          element.innerHTML = '';\n",
       "          dataTable['output_type'] = 'display_data';\n",
       "          await google.colab.output.renderOutput(dataTable, element);\n",
       "          const docLink = document.createElement('div');\n",
       "          docLink.innerHTML = docLinkHtml;\n",
       "          element.appendChild(docLink);\n",
       "        }\n",
       "      </script>\n",
       "    </div>\n",
       "  </div>\n",
       "  "
      ],
      "text/plain": [
       "  Metrics   Lasso   Ridge     RF\n",
       "0      R2   0.438   0.769  0.941\n",
       "1     MSE 841.525 345.571 88.553\n",
       "2    RMSE  29.009  18.589  9.410\n",
       "3     MAE  21.432  13.074  5.046"
      ]
     },
     "execution_count": 86,
     "metadata": {},
     "output_type": "execute_result"
    }
   ],
   "source": [
    "mean_result_df"
   ]
  },
  {
   "cell_type": "markdown",
   "metadata": {
    "id": "xvQHWM5kIqlh"
   },
   "source": [
    "This is the std of scores of 3 different models on each metric"
   ]
  },
  {
   "cell_type": "code",
   "execution_count": 87,
   "metadata": {
    "colab": {
     "base_uri": "https://localhost:8080/",
     "height": 175
    },
    "executionInfo": {
     "elapsed": 15,
     "status": "ok",
     "timestamp": 1677509940705,
     "user": {
      "displayName": "gyungyoonpark",
      "userId": "16303404270082910683"
     },
     "user_tz": -120
    },
    "id": "TknFnE95GEzR",
    "outputId": "819430a4-64f2-446c-a6f6-0d34c9212330"
   },
   "outputs": [
    {
     "data": {
      "text/html": [
       "\n",
       "  <div id=\"df-19587aee-9f35-47b2-bffe-e17685d8a828\">\n",
       "    <div class=\"colab-df-container\">\n",
       "      <div>\n",
       "<style scoped>\n",
       "    .dataframe tbody tr th:only-of-type {\n",
       "        vertical-align: middle;\n",
       "    }\n",
       "\n",
       "    .dataframe tbody tr th {\n",
       "        vertical-align: top;\n",
       "    }\n",
       "\n",
       "    .dataframe thead th {\n",
       "        text-align: right;\n",
       "    }\n",
       "</style>\n",
       "<table border=\"1\" class=\"dataframe\">\n",
       "  <thead>\n",
       "    <tr style=\"text-align: right;\">\n",
       "      <th></th>\n",
       "      <th>Metrics</th>\n",
       "      <th>Lasso</th>\n",
       "      <th>Ridge</th>\n",
       "      <th>RF</th>\n",
       "    </tr>\n",
       "  </thead>\n",
       "  <tbody>\n",
       "    <tr>\n",
       "      <th>0</th>\n",
       "      <td>R2</td>\n",
       "      <td>0.002</td>\n",
       "      <td>0.003</td>\n",
       "      <td>0.001</td>\n",
       "    </tr>\n",
       "    <tr>\n",
       "      <th>1</th>\n",
       "      <td>MSE</td>\n",
       "      <td>7.281</td>\n",
       "      <td>5.235</td>\n",
       "      <td>2.257</td>\n",
       "    </tr>\n",
       "    <tr>\n",
       "      <th>2</th>\n",
       "      <td>RMSE</td>\n",
       "      <td>0.125</td>\n",
       "      <td>0.141</td>\n",
       "      <td>0.120</td>\n",
       "    </tr>\n",
       "    <tr>\n",
       "      <th>3</th>\n",
       "      <td>MAE</td>\n",
       "      <td>0.060</td>\n",
       "      <td>0.037</td>\n",
       "      <td>0.014</td>\n",
       "    </tr>\n",
       "  </tbody>\n",
       "</table>\n",
       "</div>\n",
       "      <button class=\"colab-df-convert\" onclick=\"convertToInteractive('df-19587aee-9f35-47b2-bffe-e17685d8a828')\"\n",
       "              title=\"Convert this dataframe to an interactive table.\"\n",
       "              style=\"display:none;\">\n",
       "        \n",
       "  <svg xmlns=\"http://www.w3.org/2000/svg\" height=\"24px\"viewBox=\"0 0 24 24\"\n",
       "       width=\"24px\">\n",
       "    <path d=\"M0 0h24v24H0V0z\" fill=\"none\"/>\n",
       "    <path d=\"M18.56 5.44l.94 2.06.94-2.06 2.06-.94-2.06-.94-.94-2.06-.94 2.06-2.06.94zm-11 1L8.5 8.5l.94-2.06 2.06-.94-2.06-.94L8.5 2.5l-.94 2.06-2.06.94zm10 10l.94 2.06.94-2.06 2.06-.94-2.06-.94-.94-2.06-.94 2.06-2.06.94z\"/><path d=\"M17.41 7.96l-1.37-1.37c-.4-.4-.92-.59-1.43-.59-.52 0-1.04.2-1.43.59L10.3 9.45l-7.72 7.72c-.78.78-.78 2.05 0 2.83L4 21.41c.39.39.9.59 1.41.59.51 0 1.02-.2 1.41-.59l7.78-7.78 2.81-2.81c.8-.78.8-2.07 0-2.86zM5.41 20L4 18.59l7.72-7.72 1.47 1.35L5.41 20z\"/>\n",
       "  </svg>\n",
       "      </button>\n",
       "      \n",
       "  <style>\n",
       "    .colab-df-container {\n",
       "      display:flex;\n",
       "      flex-wrap:wrap;\n",
       "      gap: 12px;\n",
       "    }\n",
       "\n",
       "    .colab-df-convert {\n",
       "      background-color: #E8F0FE;\n",
       "      border: none;\n",
       "      border-radius: 50%;\n",
       "      cursor: pointer;\n",
       "      display: none;\n",
       "      fill: #1967D2;\n",
       "      height: 32px;\n",
       "      padding: 0 0 0 0;\n",
       "      width: 32px;\n",
       "    }\n",
       "\n",
       "    .colab-df-convert:hover {\n",
       "      background-color: #E2EBFA;\n",
       "      box-shadow: 0px 1px 2px rgba(60, 64, 67, 0.3), 0px 1px 3px 1px rgba(60, 64, 67, 0.15);\n",
       "      fill: #174EA6;\n",
       "    }\n",
       "\n",
       "    [theme=dark] .colab-df-convert {\n",
       "      background-color: #3B4455;\n",
       "      fill: #D2E3FC;\n",
       "    }\n",
       "\n",
       "    [theme=dark] .colab-df-convert:hover {\n",
       "      background-color: #434B5C;\n",
       "      box-shadow: 0px 1px 3px 1px rgba(0, 0, 0, 0.15);\n",
       "      filter: drop-shadow(0px 1px 2px rgba(0, 0, 0, 0.3));\n",
       "      fill: #FFFFFF;\n",
       "    }\n",
       "  </style>\n",
       "\n",
       "      <script>\n",
       "        const buttonEl =\n",
       "          document.querySelector('#df-19587aee-9f35-47b2-bffe-e17685d8a828 button.colab-df-convert');\n",
       "        buttonEl.style.display =\n",
       "          google.colab.kernel.accessAllowed ? 'block' : 'none';\n",
       "\n",
       "        async function convertToInteractive(key) {\n",
       "          const element = document.querySelector('#df-19587aee-9f35-47b2-bffe-e17685d8a828');\n",
       "          const dataTable =\n",
       "            await google.colab.kernel.invokeFunction('convertToInteractive',\n",
       "                                                     [key], {});\n",
       "          if (!dataTable) return;\n",
       "\n",
       "          const docLinkHtml = 'Like what you see? Visit the ' +\n",
       "            '<a target=\"_blank\" href=https://colab.research.google.com/notebooks/data_table.ipynb>data table notebook</a>'\n",
       "            + ' to learn more about interactive tables.';\n",
       "          element.innerHTML = '';\n",
       "          dataTable['output_type'] = 'display_data';\n",
       "          await google.colab.output.renderOutput(dataTable, element);\n",
       "          const docLink = document.createElement('div');\n",
       "          docLink.innerHTML = docLinkHtml;\n",
       "          element.appendChild(docLink);\n",
       "        }\n",
       "      </script>\n",
       "    </div>\n",
       "  </div>\n",
       "  "
      ],
      "text/plain": [
       "  Metrics  Lasso  Ridge    RF\n",
       "0      R2  0.002  0.003 0.001\n",
       "1     MSE  7.281  5.235 2.257\n",
       "2    RMSE  0.125  0.141 0.120\n",
       "3     MAE  0.060  0.037 0.014"
      ]
     },
     "execution_count": 87,
     "metadata": {},
     "output_type": "execute_result"
    }
   ],
   "source": [
    "std_result_df"
   ]
  },
  {
   "cell_type": "code",
   "execution_count": null,
   "metadata": {
    "id": "bqkocFJ2GE28"
   },
   "outputs": [],
   "source": []
  },
  {
   "cell_type": "code",
   "execution_count": null,
   "metadata": {
    "id": "YK_l6l9-GE6n"
   },
   "outputs": [],
   "source": []
  }
 ],
 "metadata": {
  "colab": {
   "authorship_tag": "ABX9TyNP76QQZTfkgN00d0qWpMN/",
   "machine_shape": "hm",
   "provenance": [],
   "toc_visible": true
  },
  "gpuClass": "standard",
  "kernelspec": {
   "display_name": "Python 3",
   "language": "python",
   "name": "python3"
  },
  "language_info": {
   "codemirror_mode": {
    "name": "ipython",
    "version": 3
   },
   "file_extension": ".py",
   "mimetype": "text/x-python",
   "name": "python",
   "nbconvert_exporter": "python",
   "pygments_lexer": "ipython3",
   "version": "3.8.3"
  }
 },
 "nbformat": 4,
 "nbformat_minor": 1
}
